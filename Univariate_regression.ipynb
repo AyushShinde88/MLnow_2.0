{
  "nbformat": 4,
  "nbformat_minor": 0,
  "metadata": {
    "colab": {
      "name": "Univariate_regression.ipynb",
      "provenance": [],
      "authorship_tag": "ABX9TyMQFXvRRYlxcvnjrOdEg431",
      "include_colab_link": true
    },
    "kernelspec": {
      "name": "python3",
      "display_name": "Python 3"
    },
    "language_info": {
      "name": "python"
    }
  },
  "cells": [
    {
      "cell_type": "markdown",
      "metadata": {
        "id": "view-in-github",
        "colab_type": "text"
      },
      "source": [
        "<a href=\"https://colab.research.google.com/github/AyushShinde88/MLnow_2.0/blob/main/Univariate_regression.ipynb\" target=\"_parent\"><img src=\"https://colab.research.google.com/assets/colab-badge.svg\" alt=\"Open In Colab\"/></a>"
      ]
    },
    {
      "cell_type": "markdown",
      "metadata": {
        "id": "btcWKtOfwwwD"
      },
      "source": [
        "> This notebook was created to perfrom univariate regression on dataset.\n",
        "\n",
        "`Univariate Regression`\n",
        "\n",
        "\n",
        "**Date Created**: June 13, 2021\n",
        "\n",
        "**Author**:\n",
        " Ayush Shinde\n",
        " \n",
        "\n",
        "**Reach out**:\n",
        " | [GitHub](https://github.com/AyushShinde88) |"
      ]
    },
    {
      "cell_type": "code",
      "metadata": {
        "colab": {
          "base_uri": "https://localhost:8080/"
        },
        "id": "AAnquOK4U-hd",
        "outputId": "a49da999-e3ce-4916-f5dc-36a584be6288"
      },
      "source": [
        "from google.colab import drive\n",
        "drive.mount('/content/drive')"
      ],
      "execution_count": 74,
      "outputs": [
        {
          "output_type": "stream",
          "text": [
            "Drive already mounted at /content/drive; to attempt to forcibly remount, call drive.mount(\"/content/drive\", force_remount=True).\n"
          ],
          "name": "stdout"
        }
      ]
    },
    {
      "cell_type": "code",
      "metadata": {
        "colab": {
          "base_uri": "https://localhost:8080/"
        },
        "id": "fXLzQiQzVYKE",
        "outputId": "ed786788-14dd-4604-805b-c878f83027a9"
      },
      "source": [
        "ls\n"
      ],
      "execution_count": 75,
      "outputs": [
        {
          "output_type": "stream",
          "text": [
            "StudentsPerformance.csv  univariate_Data_2.csv\n"
          ],
          "name": "stdout"
        }
      ]
    },
    {
      "cell_type": "code",
      "metadata": {
        "colab": {
          "base_uri": "https://localhost:8080/"
        },
        "id": "WN7cOBjEVZjj",
        "outputId": "7b93bfb7-399d-4efa-e66f-0e4ef2c967a1"
      },
      "source": [
        "cd /content/drive/MyDrive/ML.now()/LiveCodeSessions/Univariate Linear Regression/Students2.0"
      ],
      "execution_count": 76,
      "outputs": [
        {
          "output_type": "stream",
          "text": [
            "/content/drive/MyDrive/ML.now()/LiveCodeSessions/Univariate Linear Regression/Students2.0\n"
          ],
          "name": "stdout"
        }
      ]
    },
    {
      "cell_type": "code",
      "metadata": {
        "colab": {
          "base_uri": "https://localhost:8080/"
        },
        "id": "h1fhSukwVZlP",
        "outputId": "57b12775-a242-4fa5-c02b-d274b1848ca9"
      },
      "source": [
        "ls\n"
      ],
      "execution_count": 77,
      "outputs": [
        {
          "output_type": "stream",
          "text": [
            "StudentsPerformance.csv  univariate_Data_2.csv\n"
          ],
          "name": "stdout"
        }
      ]
    },
    {
      "cell_type": "code",
      "metadata": {
        "id": "Gf9GtzmJVZoZ"
      },
      "source": [
        "import pandas as pd #working with csv or excel files\n",
        "import numpy as np #working with numbers/ arrays/ tensors\n",
        "import tensorflow as tf #framework\n",
        "from tensorflow import keras #API / library \n",
        "import os #using os commands between the python language"
      ],
      "execution_count": 78,
      "outputs": []
    },
    {
      "cell_type": "code",
      "metadata": {
        "id": "c38o7v_NVZqN"
      },
      "source": [
        "Data = pd.read_csv('StudentsPerformance.csv') #load the csv file as dataframe\n"
      ],
      "execution_count": 79,
      "outputs": []
    },
    {
      "cell_type": "code",
      "metadata": {
        "colab": {
          "base_uri": "https://localhost:8080/",
          "height": 204
        },
        "id": "yItEDfowVZtd",
        "outputId": "eb0fe8cd-393e-47cb-bdbf-2adff6dfd179"
      },
      "source": [
        "Data.head() #print the first five rows of the dataframe"
      ],
      "execution_count": 80,
      "outputs": [
        {
          "output_type": "execute_result",
          "data": {
            "text/html": [
              "<div>\n",
              "<style scoped>\n",
              "    .dataframe tbody tr th:only-of-type {\n",
              "        vertical-align: middle;\n",
              "    }\n",
              "\n",
              "    .dataframe tbody tr th {\n",
              "        vertical-align: top;\n",
              "    }\n",
              "\n",
              "    .dataframe thead th {\n",
              "        text-align: right;\n",
              "    }\n",
              "</style>\n",
              "<table border=\"1\" class=\"dataframe\">\n",
              "  <thead>\n",
              "    <tr style=\"text-align: right;\">\n",
              "      <th></th>\n",
              "      <th>gender</th>\n",
              "      <th>race/ethnicity</th>\n",
              "      <th>parental level of education</th>\n",
              "      <th>lunch</th>\n",
              "      <th>test preparation course</th>\n",
              "      <th>math score</th>\n",
              "      <th>reading score</th>\n",
              "      <th>writing score</th>\n",
              "    </tr>\n",
              "  </thead>\n",
              "  <tbody>\n",
              "    <tr>\n",
              "      <th>0</th>\n",
              "      <td>female</td>\n",
              "      <td>group B</td>\n",
              "      <td>bachelor's degree</td>\n",
              "      <td>standard</td>\n",
              "      <td>none</td>\n",
              "      <td>72</td>\n",
              "      <td>72</td>\n",
              "      <td>74</td>\n",
              "    </tr>\n",
              "    <tr>\n",
              "      <th>1</th>\n",
              "      <td>female</td>\n",
              "      <td>group C</td>\n",
              "      <td>some college</td>\n",
              "      <td>standard</td>\n",
              "      <td>completed</td>\n",
              "      <td>69</td>\n",
              "      <td>90</td>\n",
              "      <td>88</td>\n",
              "    </tr>\n",
              "    <tr>\n",
              "      <th>2</th>\n",
              "      <td>female</td>\n",
              "      <td>group B</td>\n",
              "      <td>master's degree</td>\n",
              "      <td>standard</td>\n",
              "      <td>none</td>\n",
              "      <td>90</td>\n",
              "      <td>95</td>\n",
              "      <td>93</td>\n",
              "    </tr>\n",
              "    <tr>\n",
              "      <th>3</th>\n",
              "      <td>male</td>\n",
              "      <td>group A</td>\n",
              "      <td>associate's degree</td>\n",
              "      <td>free/reduced</td>\n",
              "      <td>none</td>\n",
              "      <td>47</td>\n",
              "      <td>57</td>\n",
              "      <td>44</td>\n",
              "    </tr>\n",
              "    <tr>\n",
              "      <th>4</th>\n",
              "      <td>male</td>\n",
              "      <td>group C</td>\n",
              "      <td>some college</td>\n",
              "      <td>standard</td>\n",
              "      <td>none</td>\n",
              "      <td>76</td>\n",
              "      <td>78</td>\n",
              "      <td>75</td>\n",
              "    </tr>\n",
              "  </tbody>\n",
              "</table>\n",
              "</div>"
            ],
            "text/plain": [
              "   gender race/ethnicity  ... reading score writing score\n",
              "0  female        group B  ...            72            74\n",
              "1  female        group C  ...            90            88\n",
              "2  female        group B  ...            95            93\n",
              "3    male        group A  ...            57            44\n",
              "4    male        group C  ...            78            75\n",
              "\n",
              "[5 rows x 8 columns]"
            ]
          },
          "metadata": {
            "tags": []
          },
          "execution_count": 80
        }
      ]
    },
    {
      "cell_type": "code",
      "metadata": {
        "colab": {
          "base_uri": "https://localhost:8080/"
        },
        "id": "MO5Huef_VZu4",
        "outputId": "5a0210a6-ca53-48e2-abfd-3a3b2ce7b785"
      },
      "source": [
        "Data.info # print all infor related to data"
      ],
      "execution_count": 81,
      "outputs": [
        {
          "output_type": "execute_result",
          "data": {
            "text/plain": [
              "<bound method DataFrame.info of      gender race/ethnicity  ... reading score writing score\n",
              "0    female        group B  ...            72            74\n",
              "1    female        group C  ...            90            88\n",
              "2    female        group B  ...            95            93\n",
              "3      male        group A  ...            57            44\n",
              "4      male        group C  ...            78            75\n",
              "..      ...            ...  ...           ...           ...\n",
              "995  female        group E  ...            99            95\n",
              "996    male        group C  ...            55            55\n",
              "997  female        group C  ...            71            65\n",
              "998  female        group D  ...            78            77\n",
              "999  female        group D  ...            86            86\n",
              "\n",
              "[1000 rows x 8 columns]>"
            ]
          },
          "metadata": {
            "tags": []
          },
          "execution_count": 81
        }
      ]
    },
    {
      "cell_type": "code",
      "metadata": {
        "id": "rCTKFMVHVZzs"
      },
      "source": [
        "Data['test preparation course'] = Data['test preparation course'].apply({'completed':1, 'none':2}.get) "
      ],
      "execution_count": 83,
      "outputs": []
    },
    {
      "cell_type": "code",
      "metadata": {
        "colab": {
          "base_uri": "https://localhost:8080/",
          "height": 204
        },
        "id": "gZ2vkAbzVZ22",
        "outputId": "89a911e1-98c8-40b9-c53e-02de7b22ed2c"
      },
      "source": [
        "uniData = Data[['reading score', 'test preparation course']]\n",
        "uniData.tail(5)"
      ],
      "execution_count": 84,
      "outputs": [
        {
          "output_type": "execute_result",
          "data": {
            "text/html": [
              "<div>\n",
              "<style scoped>\n",
              "    .dataframe tbody tr th:only-of-type {\n",
              "        vertical-align: middle;\n",
              "    }\n",
              "\n",
              "    .dataframe tbody tr th {\n",
              "        vertical-align: top;\n",
              "    }\n",
              "\n",
              "    .dataframe thead th {\n",
              "        text-align: right;\n",
              "    }\n",
              "</style>\n",
              "<table border=\"1\" class=\"dataframe\">\n",
              "  <thead>\n",
              "    <tr style=\"text-align: right;\">\n",
              "      <th></th>\n",
              "      <th>reading score</th>\n",
              "      <th>test preparation course</th>\n",
              "    </tr>\n",
              "  </thead>\n",
              "  <tbody>\n",
              "    <tr>\n",
              "      <th>995</th>\n",
              "      <td>99</td>\n",
              "      <td>1</td>\n",
              "    </tr>\n",
              "    <tr>\n",
              "      <th>996</th>\n",
              "      <td>55</td>\n",
              "      <td>2</td>\n",
              "    </tr>\n",
              "    <tr>\n",
              "      <th>997</th>\n",
              "      <td>71</td>\n",
              "      <td>1</td>\n",
              "    </tr>\n",
              "    <tr>\n",
              "      <th>998</th>\n",
              "      <td>78</td>\n",
              "      <td>1</td>\n",
              "    </tr>\n",
              "    <tr>\n",
              "      <th>999</th>\n",
              "      <td>86</td>\n",
              "      <td>2</td>\n",
              "    </tr>\n",
              "  </tbody>\n",
              "</table>\n",
              "</div>"
            ],
            "text/plain": [
              "     reading score  test preparation course\n",
              "995             99                        1\n",
              "996             55                        2\n",
              "997             71                        1\n",
              "998             78                        1\n",
              "999             86                        2"
            ]
          },
          "metadata": {
            "tags": []
          },
          "execution_count": 84
        }
      ]
    },
    {
      "cell_type": "code",
      "metadata": {
        "id": "rCEitv32VZ3_"
      },
      "source": [
        "uniData.to_csv('univariate_Data_2.csv')\n"
      ],
      "execution_count": 85,
      "outputs": []
    },
    {
      "cell_type": "code",
      "metadata": {
        "colab": {
          "base_uri": "https://localhost:8080/"
        },
        "id": "XZvDpbYnWgbF",
        "outputId": "0c9d3890-ec3c-43ad-df55-9333269b8eb8"
      },
      "source": [
        "ls"
      ],
      "execution_count": 86,
      "outputs": [
        {
          "output_type": "stream",
          "text": [
            "StudentsPerformance.csv  univariate_Data_2.csv\n"
          ],
          "name": "stdout"
        }
      ]
    },
    {
      "cell_type": "code",
      "metadata": {
        "colab": {
          "base_uri": "https://localhost:8080/",
          "height": 153
        },
        "id": "UMwSVPthVZ6m",
        "outputId": "52092329-dc60-46b6-b5fc-14b60606039f"
      },
      "source": [
        "\n",
        "import seaborn as sns\n",
        "sns.palplot(sns.color_palette(\"hls\")) \n",
        "pal = sns.color_palette('hls', 8) #print 6 color shades from flare\n",
        "pal.as_hex() #set hex code values for colors\n",
        "\n",
        "import matplotlib.pyplot as plt\n",
        "plt.style.use(['seaborn'])\n",
        "sns_colors = ['#ff0000', '#00ff00'] #blue and pink hex codes \n",
        "sns.set_palette(sns_colors) #set the palette as sns_colors \n",
        "sns.palplot(sns.color_palette(sns_colors)) #plot the color codes"
      ],
      "execution_count": 87,
      "outputs": [
        {
          "output_type": "display_data",
          "data": {
            "image/png": "[encoded data removed]",
            "text/plain": [
              "<Figure size 432x72 with 1 Axes>"
            ]
          },
          "metadata": {
            "tags": []
          }
        },
        {
          "output_type": "display_data",
          "data": {
            "image/png": "[encoded data removed]",
            "text/plain": [
              "<Figure size 144x72 with 1 Axes>"
            ]
          },
          "metadata": {
            "tags": []
          }
        }
      ]
    },
    {
      "cell_type": "code",
      "metadata": {
        "colab": {
          "base_uri": "https://localhost:8080/"
        },
        "id": "00onw-JwVZ8L",
        "outputId": "79a9b356-ec03-4089-d005-010ed80745fd"
      },
      "source": [
        "uniData.columns #columns in the dataframe\n"
      ],
      "execution_count": 88,
      "outputs": [
        {
          "output_type": "execute_result",
          "data": {
            "text/plain": [
              "Index(['reading score', 'test preparation course'], dtype='object')"
            ]
          },
          "metadata": {
            "tags": []
          },
          "execution_count": 88
        }
      ]
    },
    {
      "cell_type": "code",
      "metadata": {
        "colab": {
          "base_uri": "https://localhost:8080/",
          "height": 749
        },
        "id": "2cSSB8GQVZ-2",
        "outputId": "5f61bd61-0aba-41dc-dcca-b8320c9245ef"
      },
      "source": [
        "sns.pairplot(uniData,\n",
        "             x_vars = ['reading score', 'test preparation course'],\n",
        "             y_vars =  ['reading score', 'test preparation course'],\n",
        "       diag_kind='none'\n",
        "             )\n",
        "\n",
        "sns.pairplot(uniData,\n",
        "             x_vars = ['reading score', 'test preparation course'],\n",
        "             y_vars =  ['reading score', 'test preparation course'],\n",
        "       diag_kind='kde'\n",
        "             )"
      ],
      "execution_count": 89,
      "outputs": [
        {
          "output_type": "execute_result",
          "data": {
            "text/plain": [
              "<seaborn.axisgrid.PairGrid at 0x7fcb6ec88410>"
            ]
          },
          "metadata": {
            "tags": []
          },
          "execution_count": 89
        },
        {
          "output_type": "display_data",
          "data": {
            "image/png": "[encoded data removed]",
            "text/plain": [
              "<Figure size 360x360 with 4 Axes>"
            ]
          },
          "metadata": {
            "tags": []
          }
        },
        {
          "output_type": "display_data",
          "data": {
            "image/png": "[encoded data removed]",
            "text/plain": [
              "<Figure size 360x360 with 6 Axes>"
            ]
          },
          "metadata": {
            "tags": []
          }
        }
      ]
    },
    {
      "cell_type": "markdown",
      "metadata": {
        "id": "ZXsSI_fjz1Ld"
      },
      "source": [
        "# Data Split\n"
      ]
    },
    {
      "cell_type": "code",
      "metadata": {
        "colab": {
          "base_uri": "https://localhost:8080/"
        },
        "id": "-o8B-K0VVaAW",
        "outputId": "1b1d3a57-0ba2-4a65-92b6-ee0d2a894946"
      },
      "source": [
        "#80-20 train-test percent split\n",
        "\n",
        "trainDataset = uniData.sample(frac=0.89, random_state=0) \n",
        "testDataset = uniData.drop(trainDataset.index)\n",
        "\n",
        "print(trainDataset.head())\n",
        "print(testDataset.head())"
      ],
      "execution_count": 90,
      "outputs": [
        {
          "output_type": "stream",
          "text": [
            "     reading score  test preparation course\n",
            "993             72                        2\n",
            "859             73                        2\n",
            "298             46                        1\n",
            "553             62                        2\n",
            "672             78                        2\n",
            "    reading score  test preparation course\n",
            "9              60                        2\n",
            "28             70                        2\n",
            "42             58                        2\n",
            "47             71                        2\n",
            "53             78                        2\n"
          ],
          "name": "stdout"
        }
      ]
    },
    {
      "cell_type": "code",
      "metadata": {
        "colab": {
          "base_uri": "https://localhost:8080/"
        },
        "id": "GO2OCUyBVaDW",
        "outputId": "9786776b-3278-4f31-ebb2-6350255db222"
      },
      "source": [
        "print(trainDataset.shape)\n",
        "print(testDataset.shape)"
      ],
      "execution_count": 91,
      "outputs": [
        {
          "output_type": "stream",
          "text": [
            "(890, 2)\n",
            "(110, 2)\n"
          ],
          "name": "stdout"
        }
      ]
    },
    {
      "cell_type": "code",
      "metadata": {
        "colab": {
          "base_uri": "https://localhost:8080/"
        },
        "id": "1-cWQWNpVaE2",
        "outputId": "32b77090-2d2c-4e10-8929-2a424de94354"
      },
      "source": [
        "#copy the trainDataset dataframe for getting the features\n",
        "\n",
        "trainFeatures = trainDataset.copy()\n",
        "testFeatures = testDataset.copy()\n",
        "\n",
        "print(trainFeatures.head())\n",
        "print(testFeatures.head())"
      ],
      "execution_count": 92,
      "outputs": [
        {
          "output_type": "stream",
          "text": [
            "     reading score  test preparation course\n",
            "993             72                        2\n",
            "859             73                        2\n",
            "298             46                        1\n",
            "553             62                        2\n",
            "672             78                        2\n",
            "    reading score  test preparation course\n",
            "9              60                        2\n",
            "28             70                        2\n",
            "42             58                        2\n",
            "47             71                        2\n",
            "53             78                        2\n"
          ],
          "name": "stdout"
        }
      ]
    },
    {
      "cell_type": "code",
      "metadata": {
        "colab": {
          "base_uri": "https://localhost:8080/"
        },
        "id": "8dYZ-6c1VaIJ",
        "outputId": "afe47d7c-67e1-4985-825c-85c33968c4ad"
      },
      "source": [
        "\n",
        "#removing the reading score column and saving it into the labels variable\n",
        "\n",
        "trainLabels = trainFeatures.pop('reading score')\n",
        "testLabels = testFeatures.pop('reading score')\n",
        "\n",
        "print(trainLabels.head())\n",
        "print(testLabels.head())"
      ],
      "execution_count": 93,
      "outputs": [
        {
          "output_type": "stream",
          "text": [
            "993    72\n",
            "859    73\n",
            "298    46\n",
            "553    62\n",
            "672    78\n",
            "Name: reading score, dtype: int64\n",
            "9     60\n",
            "28    70\n",
            "42    58\n",
            "47    71\n",
            "53    78\n",
            "Name: reading score, dtype: int64\n"
          ],
          "name": "stdout"
        }
      ]
    },
    {
      "cell_type": "code",
      "metadata": {
        "colab": {
          "base_uri": "https://localhost:8080/"
        },
        "id": "1AqWNtJbVaJl",
        "outputId": "7af0f125-3e2e-46b5-cf28-849d2f120973"
      },
      "source": [
        "print(trainFeatures.head())\n",
        "print(testFeatures.head())"
      ],
      "execution_count": 94,
      "outputs": [
        {
          "output_type": "stream",
          "text": [
            "     test preparation course\n",
            "993                        2\n",
            "859                        2\n",
            "298                        1\n",
            "553                        2\n",
            "672                        2\n",
            "    test preparation course\n",
            "9                         2\n",
            "28                        2\n",
            "42                        2\n",
            "47                        2\n",
            "53                        2\n"
          ],
          "name": "stdout"
        }
      ]
    },
    {
      "cell_type": "code",
      "metadata": {
        "id": "2IiKuWeTVaNC"
      },
      "source": [
        "# univariate -> num(features) = 1\n",
        "\n",
        "\n",
        "model = tf.keras.Sequential([\n",
        "                             tf.keras.layers.Dense(1)\n",
        "\n",
        "])"
      ],
      "execution_count": 95,
      "outputs": []
    },
    {
      "cell_type": "code",
      "metadata": {
        "id": "TrmF6O_SVYLz"
      },
      "source": [
        "\n",
        "model.compile(\n",
        "    loss = 'mean_absolute_error', #minimizing the MAE loss\n",
        "    optimizer = tf.keras.optimizers.Adam(0.001), #learning rate specified as 0.001\n",
        "    # optimizer = 'adam', #takes the default learning rate\n",
        "    metrics = ['mae', 'mse'] #meanSquare and meanAbsolute error metrics\n",
        ")"
      ],
      "execution_count": 96,
      "outputs": []
    },
    {
      "cell_type": "code",
      "metadata": {
        "colab": {
          "base_uri": "https://localhost:8080/"
        },
        "id": "5OuTYm4LVYPF",
        "outputId": "23295bd0-41e4-43dd-b8e7-cca5daff1b25"
      },
      "source": [
        "numEpochs = 300\n",
        "history = model.fit(x = trainFeatures, y = trainLabels, validation_data = (testFeatures, testLabels), epochs = numEpochs)"
      ],
      "execution_count": 97,
      "outputs": [
        {
          "output_type": "stream",
          "text": [
            "Epoch 1/300\n",
            "28/28 [==============================] - 1s 6ms/step - loss: 70.0726 - mae: 70.0726 - mse: 5121.7866 - val_loss: 68.0306 - val_mae: 68.0306 - val_mse: 4835.3877\n",
            "Epoch 2/300\n",
            "28/28 [==============================] - 0s 2ms/step - loss: 69.9989 - mae: 69.9989 - mse: 5111.5874 - val_loss: 67.9547 - val_mae: 67.9547 - val_mse: 4825.1113\n",
            "Epoch 3/300\n",
            "28/28 [==============================] - 0s 2ms/step - loss: 69.9254 - mae: 69.9254 - mse: 5101.4287 - val_loss: 67.8785 - val_mae: 67.8785 - val_mse: 4814.8076\n",
            "Epoch 4/300\n",
            "28/28 [==============================] - 0s 1ms/step - loss: 69.8517 - mae: 69.8517 - mse: 5091.1865 - val_loss: 67.8025 - val_mae: 67.8025 - val_mse: 4804.5566\n",
            "Epoch 5/300\n",
            "28/28 [==============================] - 0s 2ms/step - loss: 69.7781 - mae: 69.7781 - mse: 5081.0176 - val_loss: 67.7264 - val_mae: 67.7264 - val_mse: 4794.2959\n",
            "Epoch 6/300\n",
            "28/28 [==============================] - 0s 2ms/step - loss: 69.7044 - mae: 69.7044 - mse: 5070.8022 - val_loss: 67.6505 - val_mae: 67.6505 - val_mse: 4784.0669\n",
            "Epoch 7/300\n",
            "28/28 [==============================] - 0s 2ms/step - loss: 69.6309 - mae: 69.6309 - mse: 5060.6157 - val_loss: 67.5743 - val_mae: 67.5743 - val_mse: 4773.8257\n",
            "Epoch 8/300\n",
            "28/28 [==============================] - 0s 2ms/step - loss: 69.5571 - mae: 69.5571 - mse: 5050.5176 - val_loss: 67.4985 - val_mae: 67.4985 - val_mse: 4763.6396\n",
            "Epoch 9/300\n",
            "28/28 [==============================] - 0s 2ms/step - loss: 69.4836 - mae: 69.4836 - mse: 5040.3691 - val_loss: 67.4223 - val_mae: 67.4223 - val_mse: 4753.4043\n",
            "Epoch 10/300\n",
            "28/28 [==============================] - 0s 2ms/step - loss: 69.4099 - mae: 69.4099 - mse: 5030.2285 - val_loss: 67.3462 - val_mae: 67.3462 - val_mse: 4743.2061\n",
            "Epoch 11/300\n",
            "28/28 [==============================] - 0s 2ms/step - loss: 69.3362 - mae: 69.3362 - mse: 5020.1040 - val_loss: 67.2702 - val_mae: 67.2702 - val_mse: 4733.0342\n",
            "Epoch 12/300\n",
            "28/28 [==============================] - 0s 2ms/step - loss: 69.2626 - mae: 69.2626 - mse: 5010.0117 - val_loss: 67.1943 - val_mae: 67.1943 - val_mse: 4722.8813\n",
            "Epoch 13/300\n",
            "28/28 [==============================] - 0s 2ms/step - loss: 69.1890 - mae: 69.1890 - mse: 4999.9419 - val_loss: 67.1183 - val_mae: 67.1183 - val_mse: 4712.7285\n",
            "Epoch 14/300\n",
            "28/28 [==============================] - 0s 2ms/step - loss: 69.1153 - mae: 69.1153 - mse: 4989.8311 - val_loss: 67.0424 - val_mae: 67.0424 - val_mse: 4702.5977\n",
            "Epoch 15/300\n",
            "28/28 [==============================] - 0s 1ms/step - loss: 69.0418 - mae: 69.0418 - mse: 4979.7271 - val_loss: 66.9660 - val_mae: 66.9660 - val_mse: 4692.4175\n",
            "Epoch 16/300\n",
            "28/28 [==============================] - 0s 2ms/step - loss: 68.9680 - mae: 68.9680 - mse: 4969.6816 - val_loss: 66.8901 - val_mae: 66.8901 - val_mse: 4682.3159\n",
            "Epoch 17/300\n",
            "28/28 [==============================] - 0s 2ms/step - loss: 68.8943 - mae: 68.8943 - mse: 4959.6240 - val_loss: 66.8142 - val_mae: 66.8142 - val_mse: 4672.2236\n",
            "Epoch 18/300\n",
            "28/28 [==============================] - 0s 2ms/step - loss: 68.8208 - mae: 68.8208 - mse: 4949.6157 - val_loss: 66.7381 - val_mae: 66.7381 - val_mse: 4662.1118\n",
            "Epoch 19/300\n",
            "28/28 [==============================] - 0s 2ms/step - loss: 68.7471 - mae: 68.7471 - mse: 4939.5586 - val_loss: 66.6620 - val_mae: 66.6620 - val_mse: 4652.0229\n",
            "Epoch 20/300\n",
            "28/28 [==============================] - 0s 2ms/step - loss: 68.6735 - mae: 68.6735 - mse: 4929.4922 - val_loss: 66.5859 - val_mae: 66.5859 - val_mse: 4641.9355\n",
            "Epoch 21/300\n",
            "28/28 [==============================] - 0s 2ms/step - loss: 68.5998 - mae: 68.5998 - mse: 4919.5322 - val_loss: 66.5099 - val_mae: 66.5099 - val_mse: 4631.8833\n",
            "Epoch 22/300\n",
            "28/28 [==============================] - 0s 2ms/step - loss: 68.5262 - mae: 68.5262 - mse: 4909.4961 - val_loss: 66.4339 - val_mae: 66.4339 - val_mse: 4621.8311\n",
            "Epoch 23/300\n",
            "28/28 [==============================] - 0s 2ms/step - loss: 68.4525 - mae: 68.4525 - mse: 4899.5703 - val_loss: 66.3579 - val_mae: 66.3579 - val_mse: 4611.8047\n",
            "Epoch 24/300\n",
            "28/28 [==============================] - 0s 2ms/step - loss: 68.3789 - mae: 68.3789 - mse: 4889.5396 - val_loss: 66.2818 - val_mae: 66.2818 - val_mse: 4601.7739\n",
            "Epoch 25/300\n",
            "28/28 [==============================] - 0s 2ms/step - loss: 68.3052 - mae: 68.3052 - mse: 4879.6274 - val_loss: 66.2060 - val_mae: 66.2060 - val_mse: 4591.7891\n",
            "Epoch 26/300\n",
            "28/28 [==============================] - 0s 2ms/step - loss: 68.2316 - mae: 68.2316 - mse: 4869.6489 - val_loss: 66.1298 - val_mae: 66.1298 - val_mse: 4581.7671\n",
            "Epoch 27/300\n",
            "28/28 [==============================] - 0s 2ms/step - loss: 68.1580 - mae: 68.1580 - mse: 4859.6948 - val_loss: 66.0536 - val_mae: 66.0536 - val_mse: 4571.7515\n",
            "Epoch 28/300\n",
            "28/28 [==============================] - 0s 2ms/step - loss: 68.0843 - mae: 68.0843 - mse: 4849.7261 - val_loss: 65.9776 - val_mae: 65.9776 - val_mse: 4561.7773\n",
            "Epoch 29/300\n",
            "28/28 [==============================] - 0s 2ms/step - loss: 68.0107 - mae: 68.0107 - mse: 4839.8682 - val_loss: 65.9016 - val_mae: 65.9016 - val_mse: 4551.8086\n",
            "Epoch 30/300\n",
            "28/28 [==============================] - 0s 2ms/step - loss: 67.9370 - mae: 67.9370 - mse: 4829.9678 - val_loss: 65.8255 - val_mae: 65.8255 - val_mse: 4541.8428\n",
            "Epoch 31/300\n",
            "28/28 [==============================] - 0s 2ms/step - loss: 67.8632 - mae: 67.8632 - mse: 4820.0283 - val_loss: 65.7497 - val_mae: 65.7497 - val_mse: 4531.9434\n",
            "Epoch 32/300\n",
            "28/28 [==============================] - 0s 2ms/step - loss: 67.7898 - mae: 67.7898 - mse: 4810.1865 - val_loss: 65.6736 - val_mae: 65.6736 - val_mse: 4521.9902\n",
            "Epoch 33/300\n",
            "28/28 [==============================] - 0s 2ms/step - loss: 67.7161 - mae: 67.7161 - mse: 4800.2642 - val_loss: 65.5975 - val_mae: 65.5975 - val_mse: 4512.0620\n",
            "Epoch 34/300\n",
            "28/28 [==============================] - 0s 2ms/step - loss: 67.6424 - mae: 67.6424 - mse: 4790.4106 - val_loss: 65.5215 - val_mae: 65.5215 - val_mse: 4502.1606\n",
            "Epoch 35/300\n",
            "28/28 [==============================] - 0s 2ms/step - loss: 67.5687 - mae: 67.5687 - mse: 4780.6035 - val_loss: 65.4455 - val_mae: 65.4455 - val_mse: 4492.2808\n",
            "Epoch 36/300\n",
            "28/28 [==============================] - 0s 2ms/step - loss: 67.4951 - mae: 67.4951 - mse: 4770.7178 - val_loss: 65.3694 - val_mae: 65.3694 - val_mse: 4482.3794\n",
            "Epoch 37/300\n",
            "28/28 [==============================] - 0s 2ms/step - loss: 67.4214 - mae: 67.4214 - mse: 4760.8833 - val_loss: 65.2934 - val_mae: 65.2934 - val_mse: 4472.5132\n",
            "Epoch 38/300\n",
            "28/28 [==============================] - 0s 1ms/step - loss: 67.3479 - mae: 67.3479 - mse: 4751.0596 - val_loss: 65.2171 - val_mae: 65.2171 - val_mse: 4462.6255\n",
            "Epoch 39/300\n",
            "28/28 [==============================] - 0s 2ms/step - loss: 67.2741 - mae: 67.2741 - mse: 4741.2534 - val_loss: 65.1412 - val_mae: 65.1412 - val_mse: 4452.7871\n",
            "Epoch 40/300\n",
            "28/28 [==============================] - 0s 2ms/step - loss: 67.2005 - mae: 67.2005 - mse: 4731.4692 - val_loss: 65.0650 - val_mae: 65.0650 - val_mse: 4442.9326\n",
            "Epoch 41/300\n",
            "28/28 [==============================] - 0s 2ms/step - loss: 67.1267 - mae: 67.1267 - mse: 4721.6460 - val_loss: 64.9892 - val_mae: 64.9892 - val_mse: 4433.1436\n",
            "Epoch 42/300\n",
            "28/28 [==============================] - 0s 2ms/step - loss: 67.0532 - mae: 67.0532 - mse: 4711.8794 - val_loss: 64.9132 - val_mae: 64.9132 - val_mse: 4423.3286\n",
            "Epoch 43/300\n",
            "28/28 [==============================] - 0s 2ms/step - loss: 66.9796 - mae: 66.9796 - mse: 4702.1201 - val_loss: 64.8369 - val_mae: 64.8369 - val_mse: 4413.4966\n",
            "Epoch 44/300\n",
            "28/28 [==============================] - 0s 2ms/step - loss: 66.9058 - mae: 66.9058 - mse: 4692.3667 - val_loss: 64.7609 - val_mae: 64.7609 - val_mse: 4403.7129\n",
            "Epoch 45/300\n",
            "28/28 [==============================] - 0s 2ms/step - loss: 66.8322 - mae: 66.8322 - mse: 4682.6421 - val_loss: 64.6848 - val_mae: 64.6848 - val_mse: 4393.9302\n",
            "Epoch 46/300\n",
            "28/28 [==============================] - 0s 2ms/step - loss: 66.7585 - mae: 66.7585 - mse: 4672.8838 - val_loss: 64.6089 - val_mae: 64.6089 - val_mse: 4384.1748\n",
            "Epoch 47/300\n",
            "28/28 [==============================] - 0s 2ms/step - loss: 66.6849 - mae: 66.6849 - mse: 4663.1973 - val_loss: 64.5328 - val_mae: 64.5328 - val_mse: 4374.4160\n",
            "Epoch 48/300\n",
            "28/28 [==============================] - 0s 2ms/step - loss: 66.6112 - mae: 66.6112 - mse: 4653.4170 - val_loss: 64.4567 - val_mae: 64.4567 - val_mse: 4364.6724\n",
            "Epoch 49/300\n",
            "28/28 [==============================] - 0s 2ms/step - loss: 66.5375 - mae: 66.5375 - mse: 4643.7412 - val_loss: 64.3808 - val_mae: 64.3808 - val_mse: 4354.9595\n",
            "Epoch 50/300\n",
            "28/28 [==============================] - 0s 2ms/step - loss: 66.4640 - mae: 66.4640 - mse: 4634.0991 - val_loss: 64.3045 - val_mae: 64.3045 - val_mse: 4345.2104\n",
            "Epoch 51/300\n",
            "28/28 [==============================] - 0s 2ms/step - loss: 66.3902 - mae: 66.3902 - mse: 4624.4072 - val_loss: 64.2286 - val_mae: 64.2286 - val_mse: 4335.5200\n",
            "Epoch 52/300\n",
            "28/28 [==============================] - 0s 2ms/step - loss: 66.3166 - mae: 66.3166 - mse: 4614.7520 - val_loss: 64.1524 - val_mae: 64.1524 - val_mse: 4325.8071\n",
            "Epoch 53/300\n",
            "28/28 [==============================] - 0s 2ms/step - loss: 66.2429 - mae: 66.2429 - mse: 4605.0596 - val_loss: 64.0765 - val_mae: 64.0765 - val_mse: 4316.1392\n",
            "Epoch 54/300\n",
            "28/28 [==============================] - 0s 2ms/step - loss: 66.1694 - mae: 66.1694 - mse: 4595.4536 - val_loss: 64.0001 - val_mae: 64.0001 - val_mse: 4306.4224\n",
            "Epoch 55/300\n",
            "28/28 [==============================] - 0s 2ms/step - loss: 66.0955 - mae: 66.0955 - mse: 4585.8013 - val_loss: 63.9243 - val_mae: 63.9243 - val_mse: 4296.7910\n",
            "Epoch 56/300\n",
            "28/28 [==============================] - 0s 2ms/step - loss: 66.0219 - mae: 66.0219 - mse: 4576.2104 - val_loss: 63.8485 - val_mae: 63.8485 - val_mse: 4287.1758\n",
            "Epoch 57/300\n",
            "28/28 [==============================] - 0s 2ms/step - loss: 65.9483 - mae: 65.9483 - mse: 4566.5977 - val_loss: 63.7723 - val_mae: 63.7723 - val_mse: 4277.5215\n",
            "Epoch 58/300\n",
            "28/28 [==============================] - 0s 2ms/step - loss: 65.8747 - mae: 65.8747 - mse: 4557.0127 - val_loss: 63.6962 - val_mae: 63.6962 - val_mse: 4267.8848\n",
            "Epoch 59/300\n",
            "28/28 [==============================] - 0s 2ms/step - loss: 65.8009 - mae: 65.8009 - mse: 4547.4351 - val_loss: 63.6202 - val_mae: 63.6202 - val_mse: 4258.2837\n",
            "Epoch 60/300\n",
            "28/28 [==============================] - 0s 2ms/step - loss: 65.7273 - mae: 65.7273 - mse: 4537.8389 - val_loss: 63.5441 - val_mae: 63.5441 - val_mse: 4248.6812\n",
            "Epoch 61/300\n",
            "28/28 [==============================] - 0s 2ms/step - loss: 65.6537 - mae: 65.6537 - mse: 4528.2998 - val_loss: 63.4678 - val_mae: 63.4678 - val_mse: 4239.0615\n",
            "Epoch 62/300\n",
            "28/28 [==============================] - 0s 2ms/step - loss: 65.5799 - mae: 65.5799 - mse: 4518.7192 - val_loss: 63.3919 - val_mae: 63.3919 - val_mse: 4229.5049\n",
            "Epoch 63/300\n",
            "28/28 [==============================] - 0s 2ms/step - loss: 65.5064 - mae: 65.5064 - mse: 4509.1797 - val_loss: 63.3158 - val_mae: 63.3158 - val_mse: 4219.9219\n",
            "Epoch 64/300\n",
            "28/28 [==============================] - 0s 2ms/step - loss: 65.4325 - mae: 65.4325 - mse: 4499.6357 - val_loss: 63.2401 - val_mae: 63.2401 - val_mse: 4210.4175\n",
            "Epoch 65/300\n",
            "28/28 [==============================] - 0s 2ms/step - loss: 65.3590 - mae: 65.3590 - mse: 4490.1294 - val_loss: 63.1639 - val_mae: 63.1639 - val_mse: 4200.8564\n",
            "Epoch 66/300\n",
            "28/28 [==============================] - 0s 2ms/step - loss: 65.2853 - mae: 65.2853 - mse: 4480.6328 - val_loss: 63.0878 - val_mae: 63.0878 - val_mse: 4191.3242\n",
            "Epoch 67/300\n",
            "28/28 [==============================] - 0s 2ms/step - loss: 65.2118 - mae: 65.2118 - mse: 4471.1782 - val_loss: 63.0115 - val_mae: 63.0115 - val_mse: 4181.7803\n",
            "Epoch 68/300\n",
            "28/28 [==============================] - 0s 2ms/step - loss: 65.1380 - mae: 65.1380 - mse: 4461.6084 - val_loss: 62.9359 - val_mae: 62.9359 - val_mse: 4172.3276\n",
            "Epoch 69/300\n",
            "28/28 [==============================] - 0s 2ms/step - loss: 65.0645 - mae: 65.0645 - mse: 4452.2129 - val_loss: 62.8598 - val_mae: 62.8598 - val_mse: 4162.8267\n",
            "Epoch 70/300\n",
            "28/28 [==============================] - 0s 2ms/step - loss: 64.9909 - mae: 64.9909 - mse: 4442.7354 - val_loss: 62.7836 - val_mae: 62.7836 - val_mse: 4153.3232\n",
            "Epoch 71/300\n",
            "28/28 [==============================] - 0s 2ms/step - loss: 64.9172 - mae: 64.9172 - mse: 4433.2827 - val_loss: 62.7075 - val_mae: 62.7075 - val_mse: 4143.8452\n",
            "Epoch 72/300\n",
            "28/28 [==============================] - 0s 2ms/step - loss: 64.8434 - mae: 64.8434 - mse: 4423.8242 - val_loss: 62.6317 - val_mae: 62.6317 - val_mse: 4134.4180\n",
            "Epoch 73/300\n",
            "28/28 [==============================] - 0s 2ms/step - loss: 64.7699 - mae: 64.7699 - mse: 4414.4341 - val_loss: 62.5555 - val_mae: 62.5555 - val_mse: 4124.9526\n",
            "Epoch 74/300\n",
            "28/28 [==============================] - 0s 2ms/step - loss: 64.6962 - mae: 64.6962 - mse: 4404.9873 - val_loss: 62.4794 - val_mae: 62.4794 - val_mse: 4115.5137\n",
            "Epoch 75/300\n",
            "28/28 [==============================] - 0s 2ms/step - loss: 64.6225 - mae: 64.6225 - mse: 4395.6011 - val_loss: 62.4036 - val_mae: 62.4036 - val_mse: 4106.1260\n",
            "Epoch 76/300\n",
            "28/28 [==============================] - 0s 2ms/step - loss: 64.5490 - mae: 64.5490 - mse: 4386.2012 - val_loss: 62.3274 - val_mae: 62.3274 - val_mse: 4096.6919\n",
            "Epoch 77/300\n",
            "28/28 [==============================] - 0s 2ms/step - loss: 64.4752 - mae: 64.4752 - mse: 4376.8643 - val_loss: 62.2515 - val_mae: 62.2515 - val_mse: 4087.3188\n",
            "Epoch 78/300\n",
            "28/28 [==============================] - 0s 2ms/step - loss: 64.4017 - mae: 64.4017 - mse: 4367.4482 - val_loss: 62.1753 - val_mae: 62.1753 - val_mse: 4077.9131\n",
            "Epoch 79/300\n",
            "28/28 [==============================] - 0s 2ms/step - loss: 64.3280 - mae: 64.3280 - mse: 4358.1016 - val_loss: 62.0992 - val_mae: 62.0992 - val_mse: 4068.5349\n",
            "Epoch 80/300\n",
            "28/28 [==============================] - 0s 2ms/step - loss: 64.2543 - mae: 64.2543 - mse: 4348.7334 - val_loss: 62.0233 - val_mae: 62.0233 - val_mse: 4059.1899\n",
            "Epoch 81/300\n",
            "28/28 [==============================] - 0s 2ms/step - loss: 64.1806 - mae: 64.1806 - mse: 4339.3838 - val_loss: 61.9472 - val_mae: 61.9472 - val_mse: 4049.8296\n",
            "Epoch 82/300\n",
            "28/28 [==============================] - 0s 2ms/step - loss: 64.1069 - mae: 64.1069 - mse: 4330.0659 - val_loss: 61.8712 - val_mae: 61.8712 - val_mse: 4040.4954\n",
            "Epoch 83/300\n",
            "28/28 [==============================] - 0s 2ms/step - loss: 64.0333 - mae: 64.0333 - mse: 4320.7715 - val_loss: 61.7950 - val_mae: 61.7950 - val_mse: 4031.1550\n",
            "Epoch 84/300\n",
            "28/28 [==============================] - 0s 2ms/step - loss: 63.9597 - mae: 63.9597 - mse: 4311.4565 - val_loss: 61.7189 - val_mae: 61.7189 - val_mse: 4021.8264\n",
            "Epoch 85/300\n",
            "28/28 [==============================] - 0s 2ms/step - loss: 63.8860 - mae: 63.8860 - mse: 4302.1147 - val_loss: 61.6430 - val_mae: 61.6430 - val_mse: 4012.5476\n",
            "Epoch 86/300\n",
            "28/28 [==============================] - 0s 2ms/step - loss: 63.8125 - mae: 63.8125 - mse: 4292.8672 - val_loss: 61.5668 - val_mae: 61.5668 - val_mse: 4003.2410\n",
            "Epoch 87/300\n",
            "28/28 [==============================] - 0s 2ms/step - loss: 63.7387 - mae: 63.7387 - mse: 4283.5986 - val_loss: 61.4909 - val_mae: 61.4909 - val_mse: 3993.9773\n",
            "Epoch 88/300\n",
            "28/28 [==============================] - 0s 2ms/step - loss: 63.6651 - mae: 63.6651 - mse: 4274.3428 - val_loss: 61.4148 - val_mae: 61.4148 - val_mse: 3984.7026\n",
            "Epoch 89/300\n",
            "28/28 [==============================] - 0s 2ms/step - loss: 63.5915 - mae: 63.5915 - mse: 4265.1025 - val_loss: 61.3388 - val_mae: 61.3388 - val_mse: 3975.4451\n",
            "Epoch 90/300\n",
            "28/28 [==============================] - 0s 2ms/step - loss: 63.5178 - mae: 63.5178 - mse: 4255.8115 - val_loss: 61.2628 - val_mae: 61.2628 - val_mse: 3966.2163\n",
            "Epoch 91/300\n",
            "28/28 [==============================] - 0s 2ms/step - loss: 63.4442 - mae: 63.4442 - mse: 4246.6392 - val_loss: 61.1869 - val_mae: 61.1869 - val_mse: 3956.9927\n",
            "Epoch 92/300\n",
            "28/28 [==============================] - 0s 2ms/step - loss: 63.3706 - mae: 63.3706 - mse: 4237.4438 - val_loss: 61.1106 - val_mae: 61.1106 - val_mse: 3947.7505\n",
            "Epoch 93/300\n",
            "28/28 [==============================] - 0s 2ms/step - loss: 63.2969 - mae: 63.2969 - mse: 4228.2456 - val_loss: 61.0346 - val_mae: 61.0346 - val_mse: 3938.5437\n",
            "Epoch 94/300\n",
            "28/28 [==============================] - 0s 2ms/step - loss: 63.2232 - mae: 63.2232 - mse: 4219.0146 - val_loss: 60.9588 - val_mae: 60.9588 - val_mse: 3929.3772\n",
            "Epoch 95/300\n",
            "28/28 [==============================] - 0s 2ms/step - loss: 63.1497 - mae: 63.1497 - mse: 4209.8721 - val_loss: 60.8826 - val_mae: 60.8826 - val_mse: 3920.1760\n",
            "Epoch 96/300\n",
            "28/28 [==============================] - 0s 2ms/step - loss: 63.0759 - mae: 63.0759 - mse: 4200.6553 - val_loss: 60.8067 - val_mae: 60.8067 - val_mse: 3911.0215\n",
            "Epoch 97/300\n",
            "28/28 [==============================] - 0s 2ms/step - loss: 63.0022 - mae: 63.0022 - mse: 4191.5293 - val_loss: 60.7309 - val_mae: 60.7309 - val_mse: 3901.8914\n",
            "Epoch 98/300\n",
            "28/28 [==============================] - 0s 2ms/step - loss: 62.9288 - mae: 62.9288 - mse: 4182.3706 - val_loss: 60.6545 - val_mae: 60.6545 - val_mse: 3892.7029\n",
            "Epoch 99/300\n",
            "28/28 [==============================] - 0s 2ms/step - loss: 62.8550 - mae: 62.8550 - mse: 4173.2100 - val_loss: 60.5784 - val_mae: 60.5784 - val_mse: 3883.5535\n",
            "Epoch 100/300\n",
            "28/28 [==============================] - 0s 2ms/step - loss: 62.7813 - mae: 62.7813 - mse: 4164.1240 - val_loss: 60.5024 - val_mae: 60.5024 - val_mse: 3874.4387\n",
            "Epoch 101/300\n",
            "28/28 [==============================] - 0s 2ms/step - loss: 62.7077 - mae: 62.7077 - mse: 4155.0166 - val_loss: 60.4265 - val_mae: 60.4265 - val_mse: 3865.3386\n",
            "Epoch 102/300\n",
            "28/28 [==============================] - 0s 2ms/step - loss: 62.6341 - mae: 62.6341 - mse: 4145.9141 - val_loss: 60.3504 - val_mae: 60.3504 - val_mse: 3856.2290\n",
            "Epoch 103/300\n",
            "28/28 [==============================] - 0s 2ms/step - loss: 62.5604 - mae: 62.5604 - mse: 4136.8271 - val_loss: 60.2743 - val_mae: 60.2743 - val_mse: 3847.1384\n",
            "Epoch 104/300\n",
            "28/28 [==============================] - 0s 2ms/step - loss: 62.4867 - mae: 62.4867 - mse: 4127.7197 - val_loss: 60.1982 - val_mae: 60.1982 - val_mse: 3838.0569\n",
            "Epoch 105/300\n",
            "28/28 [==============================] - 0s 2ms/step - loss: 62.4131 - mae: 62.4131 - mse: 4118.6499 - val_loss: 60.1222 - val_mae: 60.1222 - val_mse: 3828.9958\n",
            "Epoch 106/300\n",
            "28/28 [==============================] - 0s 2ms/step - loss: 62.3394 - mae: 62.3394 - mse: 4109.6006 - val_loss: 60.0462 - val_mae: 60.0462 - val_mse: 3819.9443\n",
            "Epoch 107/300\n",
            "28/28 [==============================] - 0s 2ms/step - loss: 62.2659 - mae: 62.2659 - mse: 4100.5479 - val_loss: 59.9698 - val_mae: 59.9698 - val_mse: 3810.8611\n",
            "Epoch 108/300\n",
            "28/28 [==============================] - 0s 2ms/step - loss: 62.1920 - mae: 62.1920 - mse: 4091.4863 - val_loss: 59.8942 - val_mae: 59.8942 - val_mse: 3801.8848\n",
            "Epoch 109/300\n",
            "28/28 [==============================] - 0s 2ms/step - loss: 62.1185 - mae: 62.1185 - mse: 4082.4966 - val_loss: 59.8180 - val_mae: 59.8180 - val_mse: 3792.8479\n",
            "Epoch 110/300\n",
            "28/28 [==============================] - 0s 2ms/step - loss: 62.0448 - mae: 62.0448 - mse: 4073.4758 - val_loss: 59.7420 - val_mae: 59.7420 - val_mse: 3783.8521\n",
            "Epoch 111/300\n",
            "28/28 [==============================] - 0s 2ms/step - loss: 61.9712 - mae: 61.9712 - mse: 4064.4783 - val_loss: 59.6659 - val_mae: 59.6659 - val_mse: 3774.8491\n",
            "Epoch 112/300\n",
            "28/28 [==============================] - 0s 2ms/step - loss: 61.8974 - mae: 61.8974 - mse: 4055.4937 - val_loss: 59.5900 - val_mae: 59.5900 - val_mse: 3765.8901\n",
            "Epoch 113/300\n",
            "28/28 [==============================] - 0s 2ms/step - loss: 61.8239 - mae: 61.8239 - mse: 4046.5081 - val_loss: 59.5138 - val_mae: 59.5138 - val_mse: 3756.8997\n",
            "Epoch 114/300\n",
            "28/28 [==============================] - 0s 2ms/step - loss: 61.7502 - mae: 61.7502 - mse: 4037.5188 - val_loss: 59.4377 - val_mae: 59.4377 - val_mse: 3747.9333\n",
            "Epoch 115/300\n",
            "28/28 [==============================] - 0s 2ms/step - loss: 61.6765 - mae: 61.6765 - mse: 4028.5674 - val_loss: 59.3617 - val_mae: 59.3617 - val_mse: 3738.9880\n",
            "Epoch 116/300\n",
            "28/28 [==============================] - 0s 2ms/step - loss: 61.6029 - mae: 61.6029 - mse: 4019.6306 - val_loss: 59.2856 - val_mae: 59.2856 - val_mse: 3730.0515\n",
            "Epoch 117/300\n",
            "28/28 [==============================] - 0s 2ms/step - loss: 61.5292 - mae: 61.5292 - mse: 4010.7197 - val_loss: 59.2096 - val_mae: 59.2096 - val_mse: 3721.1274\n",
            "Epoch 118/300\n",
            "28/28 [==============================] - 0s 2ms/step - loss: 61.4555 - mae: 61.4555 - mse: 4001.8152 - val_loss: 59.1338 - val_mae: 59.1338 - val_mse: 3712.2478\n",
            "Epoch 119/300\n",
            "28/28 [==============================] - 0s 2ms/step - loss: 61.3820 - mae: 61.3820 - mse: 3992.8713 - val_loss: 59.0575 - val_mae: 59.0575 - val_mse: 3703.3232\n",
            "Epoch 120/300\n",
            "28/28 [==============================] - 0s 3ms/step - loss: 61.3082 - mae: 61.3082 - mse: 3983.9893 - val_loss: 58.9815 - val_mae: 58.9815 - val_mse: 3694.4458\n",
            "Epoch 121/300\n",
            "28/28 [==============================] - 0s 3ms/step - loss: 61.2347 - mae: 61.2347 - mse: 3975.1042 - val_loss: 58.9053 - val_mae: 58.9053 - val_mse: 3685.5427\n",
            "Epoch 122/300\n",
            "28/28 [==============================] - 0s 2ms/step - loss: 61.1609 - mae: 61.1609 - mse: 3966.1802 - val_loss: 58.8292 - val_mae: 58.8292 - val_mse: 3676.6804\n",
            "Epoch 123/300\n",
            "28/28 [==============================] - 0s 2ms/step - loss: 61.0873 - mae: 61.0873 - mse: 3957.3333 - val_loss: 58.7532 - val_mae: 58.7532 - val_mse: 3667.8330\n",
            "Epoch 124/300\n",
            "28/28 [==============================] - 0s 2ms/step - loss: 61.0137 - mae: 61.0137 - mse: 3948.5093 - val_loss: 58.6772 - val_mae: 58.6772 - val_mse: 3658.9919\n",
            "Epoch 125/300\n",
            "28/28 [==============================] - 0s 2ms/step - loss: 60.9400 - mae: 60.9400 - mse: 3939.6318 - val_loss: 58.6010 - val_mae: 58.6010 - val_mse: 3650.1506\n",
            "Epoch 126/300\n",
            "28/28 [==============================] - 0s 2ms/step - loss: 60.8663 - mae: 60.8663 - mse: 3930.8098 - val_loss: 58.5252 - val_mae: 58.5252 - val_mse: 3641.3579\n",
            "Epoch 127/300\n",
            "28/28 [==============================] - 0s 2ms/step - loss: 60.7928 - mae: 60.7928 - mse: 3921.9939 - val_loss: 58.4491 - val_mae: 58.4491 - val_mse: 3632.5522\n",
            "Epoch 128/300\n",
            "28/28 [==============================] - 0s 2ms/step - loss: 60.7191 - mae: 60.7191 - mse: 3913.1877 - val_loss: 58.3731 - val_mae: 58.3731 - val_mse: 3623.7725\n",
            "Epoch 129/300\n",
            "28/28 [==============================] - 0s 2ms/step - loss: 60.6455 - mae: 60.6455 - mse: 3904.3733 - val_loss: 58.2972 - val_mae: 58.2972 - val_mse: 3614.9988\n",
            "Epoch 130/300\n",
            "28/28 [==============================] - 0s 2ms/step - loss: 60.5718 - mae: 60.5718 - mse: 3895.6157 - val_loss: 58.2212 - val_mae: 58.2212 - val_mse: 3606.2368\n",
            "Epoch 131/300\n",
            "28/28 [==============================] - 0s 2ms/step - loss: 60.4982 - mae: 60.4982 - mse: 3886.8083 - val_loss: 58.1451 - val_mae: 58.1451 - val_mse: 3597.4807\n",
            "Epoch 132/300\n",
            "28/28 [==============================] - 0s 2ms/step - loss: 60.4245 - mae: 60.4245 - mse: 3878.0447 - val_loss: 58.0691 - val_mae: 58.0691 - val_mse: 3588.7390\n",
            "Epoch 133/300\n",
            "28/28 [==============================] - 0s 2ms/step - loss: 60.3509 - mae: 60.3509 - mse: 3869.2703 - val_loss: 57.9928 - val_mae: 57.9928 - val_mse: 3579.9827\n",
            "Epoch 134/300\n",
            "28/28 [==============================] - 0s 2ms/step - loss: 60.2772 - mae: 60.2772 - mse: 3860.5562 - val_loss: 57.9170 - val_mae: 57.9170 - val_mse: 3571.2795\n",
            "Epoch 135/300\n",
            "28/28 [==============================] - 0s 2ms/step - loss: 60.2036 - mae: 60.2036 - mse: 3851.8203 - val_loss: 57.8408 - val_mae: 57.8408 - val_mse: 3562.5632\n",
            "Epoch 136/300\n",
            "28/28 [==============================] - 0s 2ms/step - loss: 60.1299 - mae: 60.1299 - mse: 3843.0776 - val_loss: 57.7648 - val_mae: 57.7648 - val_mse: 3553.8652\n",
            "Epoch 137/300\n",
            "28/28 [==============================] - 0s 2ms/step - loss: 60.0562 - mae: 60.0562 - mse: 3834.3774 - val_loss: 57.6889 - val_mae: 57.6889 - val_mse: 3545.1934\n",
            "Epoch 138/300\n",
            "28/28 [==============================] - 0s 2ms/step - loss: 59.9827 - mae: 59.9827 - mse: 3825.6841 - val_loss: 57.6125 - val_mae: 57.6125 - val_mse: 3536.4839\n",
            "Epoch 139/300\n",
            "28/28 [==============================] - 0s 2ms/step - loss: 59.9089 - mae: 59.9089 - mse: 3816.9963 - val_loss: 57.5367 - val_mae: 57.5367 - val_mse: 3527.8560\n",
            "Epoch 140/300\n",
            "28/28 [==============================] - 0s 2ms/step - loss: 59.8353 - mae: 59.8353 - mse: 3808.3252 - val_loss: 57.4606 - val_mae: 57.4606 - val_mse: 3519.1917\n",
            "Epoch 141/300\n",
            "28/28 [==============================] - 0s 2ms/step - loss: 59.7617 - mae: 59.7617 - mse: 3799.6575 - val_loss: 57.3844 - val_mae: 57.3844 - val_mse: 3510.5371\n",
            "Epoch 142/300\n",
            "28/28 [==============================] - 0s 2ms/step - loss: 59.6879 - mae: 59.6879 - mse: 3790.9978 - val_loss: 57.3085 - val_mae: 57.3085 - val_mse: 3501.9346\n",
            "Epoch 143/300\n",
            "28/28 [==============================] - 0s 3ms/step - loss: 59.6144 - mae: 59.6144 - mse: 3782.3606 - val_loss: 57.2324 - val_mae: 57.2324 - val_mse: 3493.3110\n",
            "Epoch 144/300\n",
            "28/28 [==============================] - 0s 2ms/step - loss: 59.5407 - mae: 59.5407 - mse: 3773.7471 - val_loss: 57.1565 - val_mae: 57.1565 - val_mse: 3484.7234\n",
            "Epoch 145/300\n",
            "28/28 [==============================] - 0s 2ms/step - loss: 59.4671 - mae: 59.4671 - mse: 3765.0901 - val_loss: 57.0805 - val_mae: 57.0805 - val_mse: 3476.1414\n",
            "Epoch 146/300\n",
            "28/28 [==============================] - 0s 2ms/step - loss: 59.3935 - mae: 59.3935 - mse: 3756.5198 - val_loss: 57.0043 - val_mae: 57.0043 - val_mse: 3467.5466\n",
            "Epoch 147/300\n",
            "28/28 [==============================] - 0s 2ms/step - loss: 59.3197 - mae: 59.3197 - mse: 3747.9026 - val_loss: 56.9284 - val_mae: 56.9284 - val_mse: 3459.0015\n",
            "Epoch 148/300\n",
            "28/28 [==============================] - 0s 2ms/step - loss: 59.2462 - mae: 59.2462 - mse: 3739.3506 - val_loss: 56.8522 - val_mae: 56.8522 - val_mse: 3450.4226\n",
            "Epoch 149/300\n",
            "28/28 [==============================] - 0s 2ms/step - loss: 59.1724 - mae: 59.1724 - mse: 3730.7358 - val_loss: 56.7764 - val_mae: 56.7764 - val_mse: 3441.9060\n",
            "Epoch 150/300\n",
            "28/28 [==============================] - 0s 2ms/step - loss: 59.0988 - mae: 59.0988 - mse: 3722.1787 - val_loss: 56.7004 - val_mae: 56.7004 - val_mse: 3433.3821\n",
            "Epoch 151/300\n",
            "28/28 [==============================] - 0s 2ms/step - loss: 59.0252 - mae: 59.0252 - mse: 3713.6265 - val_loss: 56.6242 - val_mae: 56.6242 - val_mse: 3424.8433\n",
            "Epoch 152/300\n",
            "28/28 [==============================] - 0s 2ms/step - loss: 58.9514 - mae: 58.9514 - mse: 3705.0796 - val_loss: 56.5483 - val_mae: 56.5483 - val_mse: 3416.3564\n",
            "Epoch 153/300\n",
            "28/28 [==============================] - 0s 2ms/step - loss: 58.8778 - mae: 58.8778 - mse: 3696.5684 - val_loss: 56.4721 - val_mae: 56.4721 - val_mse: 3407.8506\n",
            "Epoch 154/300\n",
            "28/28 [==============================] - 0s 2ms/step - loss: 58.8043 - mae: 58.8043 - mse: 3688.0012 - val_loss: 56.3957 - val_mae: 56.3957 - val_mse: 3399.3269\n",
            "Epoch 155/300\n",
            "28/28 [==============================] - 0s 3ms/step - loss: 58.7305 - mae: 58.7305 - mse: 3679.4941 - val_loss: 56.3198 - val_mae: 56.3198 - val_mse: 3390.8730\n",
            "Epoch 156/300\n",
            "28/28 [==============================] - 0s 2ms/step - loss: 58.6569 - mae: 58.6569 - mse: 3671.0168 - val_loss: 56.2439 - val_mae: 56.2439 - val_mse: 3382.4268\n",
            "Epoch 157/300\n",
            "28/28 [==============================] - 0s 2ms/step - loss: 58.5832 - mae: 58.5832 - mse: 3662.5515 - val_loss: 56.1678 - val_mae: 56.1678 - val_mse: 3373.9729\n",
            "Epoch 158/300\n",
            "28/28 [==============================] - 0s 2ms/step - loss: 58.5095 - mae: 58.5095 - mse: 3654.0671 - val_loss: 56.0919 - val_mae: 56.0919 - val_mse: 3365.5476\n",
            "Epoch 159/300\n",
            "28/28 [==============================] - 0s 2ms/step - loss: 58.4360 - mae: 58.4360 - mse: 3645.6099 - val_loss: 56.0156 - val_mae: 56.0156 - val_mse: 3357.1001\n",
            "Epoch 160/300\n",
            "28/28 [==============================] - 0s 2ms/step - loss: 58.3622 - mae: 58.3622 - mse: 3637.1472 - val_loss: 55.9398 - val_mae: 55.9398 - val_mse: 3348.7124\n",
            "Epoch 161/300\n",
            "28/28 [==============================] - 0s 2ms/step - loss: 58.2886 - mae: 58.2886 - mse: 3628.6853 - val_loss: 55.8635 - val_mae: 55.8635 - val_mse: 3340.2910\n",
            "Epoch 162/300\n",
            "28/28 [==============================] - 0s 2ms/step - loss: 58.2148 - mae: 58.2148 - mse: 3620.2673 - val_loss: 55.7878 - val_mae: 55.7878 - val_mse: 3331.9324\n",
            "Epoch 163/300\n",
            "28/28 [==============================] - 0s 2ms/step - loss: 58.1413 - mae: 58.1413 - mse: 3611.8689 - val_loss: 55.7115 - val_mae: 55.7115 - val_mse: 3323.5293\n",
            "Epoch 164/300\n",
            "28/28 [==============================] - 0s 2ms/step - loss: 58.0676 - mae: 58.0676 - mse: 3603.4634 - val_loss: 55.6354 - val_mae: 55.6354 - val_mse: 3315.1653\n",
            "Epoch 165/300\n",
            "28/28 [==============================] - 0s 2ms/step - loss: 57.9939 - mae: 57.9939 - mse: 3595.0596 - val_loss: 55.5595 - val_mae: 55.5595 - val_mse: 3306.8245\n",
            "Epoch 166/300\n",
            "28/28 [==============================] - 0s 2ms/step - loss: 57.9204 - mae: 57.9204 - mse: 3586.6831 - val_loss: 55.4833 - val_mae: 55.4833 - val_mse: 3298.4673\n",
            "Epoch 167/300\n",
            "28/28 [==============================] - 0s 2ms/step - loss: 57.8466 - mae: 57.8466 - mse: 3578.2881 - val_loss: 55.4075 - val_mae: 55.4075 - val_mse: 3290.1682\n",
            "Epoch 168/300\n",
            "28/28 [==============================] - 0s 2ms/step - loss: 57.7730 - mae: 57.7730 - mse: 3569.9558 - val_loss: 55.3314 - val_mae: 55.3314 - val_mse: 3281.8455\n",
            "Epoch 169/300\n",
            "28/28 [==============================] - 0s 2ms/step - loss: 57.6994 - mae: 57.6994 - mse: 3561.5994 - val_loss: 55.2552 - val_mae: 55.2552 - val_mse: 3273.5186\n",
            "Epoch 170/300\n",
            "28/28 [==============================] - 0s 2ms/step - loss: 57.6257 - mae: 57.6257 - mse: 3553.2483 - val_loss: 55.1791 - val_mae: 55.1791 - val_mse: 3265.2297\n",
            "Epoch 171/300\n",
            "28/28 [==============================] - 0s 2ms/step - loss: 57.5521 - mae: 57.5521 - mse: 3544.9072 - val_loss: 55.1031 - val_mae: 55.1031 - val_mse: 3256.9490\n",
            "Epoch 172/300\n",
            "28/28 [==============================] - 0s 3ms/step - loss: 57.4785 - mae: 57.4785 - mse: 3536.5864 - val_loss: 55.0271 - val_mae: 55.0271 - val_mse: 3248.6804\n",
            "Epoch 173/300\n",
            "28/28 [==============================] - 0s 2ms/step - loss: 57.4048 - mae: 57.4048 - mse: 3528.3059 - val_loss: 54.9511 - val_mae: 54.9511 - val_mse: 3240.4326\n",
            "Epoch 174/300\n",
            "28/28 [==============================] - 0s 2ms/step - loss: 57.3311 - mae: 57.3311 - mse: 3520.0042 - val_loss: 54.8751 - val_mae: 54.8751 - val_mse: 3232.1946\n",
            "Epoch 175/300\n",
            "28/28 [==============================] - 0s 2ms/step - loss: 57.2575 - mae: 57.2575 - mse: 3511.7280 - val_loss: 54.7991 - val_mae: 54.7991 - val_mse: 3223.9653\n",
            "Epoch 176/300\n",
            "28/28 [==============================] - 0s 2ms/step - loss: 57.1839 - mae: 57.1839 - mse: 3503.4343 - val_loss: 54.7229 - val_mae: 54.7229 - val_mse: 3215.7219\n",
            "Epoch 177/300\n",
            "28/28 [==============================] - 0s 2ms/step - loss: 57.1102 - mae: 57.1102 - mse: 3495.1646 - val_loss: 54.6469 - val_mae: 54.6469 - val_mse: 3207.5178\n",
            "Epoch 178/300\n",
            "28/28 [==============================] - 0s 2ms/step - loss: 57.0366 - mae: 57.0366 - mse: 3486.9368 - val_loss: 54.5708 - val_mae: 54.5708 - val_mse: 3199.3206\n",
            "Epoch 179/300\n",
            "28/28 [==============================] - 0s 2ms/step - loss: 56.9629 - mae: 56.9629 - mse: 3478.6787 - val_loss: 54.4949 - val_mae: 54.4949 - val_mse: 3191.1404\n",
            "Epoch 180/300\n",
            "28/28 [==============================] - 0s 2ms/step - loss: 56.8893 - mae: 56.8893 - mse: 3470.4229 - val_loss: 54.4188 - val_mae: 54.4188 - val_mse: 3182.9692\n",
            "Epoch 181/300\n",
            "28/28 [==============================] - 0s 2ms/step - loss: 56.8157 - mae: 56.8157 - mse: 3462.2620 - val_loss: 54.3427 - val_mae: 54.3427 - val_mse: 3174.7952\n",
            "Epoch 182/300\n",
            "28/28 [==============================] - 0s 2ms/step - loss: 56.7419 - mae: 56.7419 - mse: 3454.0632 - val_loss: 54.2669 - val_mae: 54.2669 - val_mse: 3166.6768\n",
            "Epoch 183/300\n",
            "28/28 [==============================] - 0s 2ms/step - loss: 56.6684 - mae: 56.6684 - mse: 3445.8262 - val_loss: 54.1907 - val_mae: 54.1907 - val_mse: 3158.5210\n",
            "Epoch 184/300\n",
            "28/28 [==============================] - 0s 2ms/step - loss: 56.5947 - mae: 56.5947 - mse: 3437.6831 - val_loss: 54.1147 - val_mae: 54.1147 - val_mse: 3150.3999\n",
            "Epoch 185/300\n",
            "28/28 [==============================] - 0s 2ms/step - loss: 56.5210 - mae: 56.5210 - mse: 3429.4875 - val_loss: 54.0387 - val_mae: 54.0387 - val_mse: 3142.2830\n",
            "Epoch 186/300\n",
            "28/28 [==============================] - 0s 2ms/step - loss: 56.4473 - mae: 56.4473 - mse: 3421.3154 - val_loss: 53.9628 - val_mae: 53.9628 - val_mse: 3134.2009\n",
            "Epoch 187/300\n",
            "28/28 [==============================] - 0s 2ms/step - loss: 56.3739 - mae: 56.3739 - mse: 3413.2012 - val_loss: 53.8864 - val_mae: 53.8864 - val_mse: 3126.0706\n",
            "Epoch 188/300\n",
            "28/28 [==============================] - 0s 2ms/step - loss: 56.3000 - mae: 56.3000 - mse: 3405.0181 - val_loss: 53.8106 - val_mae: 53.8106 - val_mse: 3118.0215\n",
            "Epoch 189/300\n",
            "28/28 [==============================] - 0s 2ms/step - loss: 56.2264 - mae: 56.2264 - mse: 3396.9211 - val_loss: 53.7345 - val_mae: 53.7345 - val_mse: 3109.9414\n",
            "Epoch 190/300\n",
            "28/28 [==============================] - 0s 2ms/step - loss: 56.1528 - mae: 56.1528 - mse: 3388.8401 - val_loss: 53.6583 - val_mae: 53.6583 - val_mse: 3101.8730\n",
            "Epoch 191/300\n",
            "28/28 [==============================] - 0s 2ms/step - loss: 56.0791 - mae: 56.0791 - mse: 3380.6792 - val_loss: 53.5824 - val_mae: 53.5824 - val_mse: 3093.8416\n",
            "Epoch 192/300\n",
            "28/28 [==============================] - 0s 2ms/step - loss: 56.0055 - mae: 56.0055 - mse: 3372.6006 - val_loss: 53.5062 - val_mae: 53.5062 - val_mse: 3085.8040\n",
            "Epoch 193/300\n",
            "28/28 [==============================] - 0s 2ms/step - loss: 55.9318 - mae: 55.9318 - mse: 3364.5039 - val_loss: 53.4303 - val_mae: 53.4303 - val_mse: 3077.7954\n",
            "Epoch 194/300\n",
            "28/28 [==============================] - 0s 2ms/step - loss: 55.8582 - mae: 55.8582 - mse: 3356.4329 - val_loss: 53.3541 - val_mae: 53.3541 - val_mse: 3069.7742\n",
            "Epoch 195/300\n",
            "28/28 [==============================] - 0s 2ms/step - loss: 55.7845 - mae: 55.7845 - mse: 3348.4048 - val_loss: 53.2779 - val_mae: 53.2779 - val_mse: 3061.7632\n",
            "Epoch 196/300\n",
            "28/28 [==============================] - 0s 2ms/step - loss: 55.7108 - mae: 55.7108 - mse: 3340.3281 - val_loss: 53.2022 - val_mae: 53.2022 - val_mse: 3053.8147\n",
            "Epoch 197/300\n",
            "28/28 [==============================] - 0s 2ms/step - loss: 55.6372 - mae: 55.6372 - mse: 3332.3315 - val_loss: 53.1261 - val_mae: 53.1261 - val_mse: 3045.8335\n",
            "Epoch 198/300\n",
            "28/28 [==============================] - 0s 2ms/step - loss: 55.5635 - mae: 55.5635 - mse: 3324.3225 - val_loss: 53.0500 - val_mae: 53.0500 - val_mse: 3037.8674\n",
            "Epoch 199/300\n",
            "28/28 [==============================] - 0s 2ms/step - loss: 55.4899 - mae: 55.4899 - mse: 3316.2590 - val_loss: 52.9740 - val_mae: 52.9740 - val_mse: 3029.9233\n",
            "Epoch 200/300\n",
            "28/28 [==============================] - 0s 2ms/step - loss: 55.4163 - mae: 55.4163 - mse: 3308.2832 - val_loss: 52.8978 - val_mae: 52.8978 - val_mse: 3021.9736\n",
            "Epoch 201/300\n",
            "28/28 [==============================] - 0s 2ms/step - loss: 55.3426 - mae: 55.3426 - mse: 3300.2812 - val_loss: 52.8217 - val_mae: 52.8217 - val_mse: 3014.0439\n",
            "Epoch 202/300\n",
            "28/28 [==============================] - 0s 2ms/step - loss: 55.2689 - mae: 55.2689 - mse: 3292.2856 - val_loss: 52.7459 - val_mae: 52.7459 - val_mse: 3006.1511\n",
            "Epoch 203/300\n",
            "28/28 [==============================] - 0s 2ms/step - loss: 55.1953 - mae: 55.1953 - mse: 3284.2966 - val_loss: 52.6698 - val_mae: 52.6698 - val_mse: 2998.2463\n",
            "Epoch 204/300\n",
            "28/28 [==============================] - 0s 2ms/step - loss: 55.1217 - mae: 55.1217 - mse: 3276.3420 - val_loss: 52.5935 - val_mae: 52.5935 - val_mse: 2990.3306\n",
            "Epoch 205/300\n",
            "28/28 [==============================] - 0s 2ms/step - loss: 55.0479 - mae: 55.0479 - mse: 3268.3850 - val_loss: 52.5177 - val_mae: 52.5177 - val_mse: 2982.4807\n",
            "Epoch 206/300\n",
            "28/28 [==============================] - 0s 2ms/step - loss: 54.9743 - mae: 54.9743 - mse: 3260.4946 - val_loss: 52.4418 - val_mae: 52.4418 - val_mse: 2974.6272\n",
            "Epoch 207/300\n",
            "28/28 [==============================] - 0s 2ms/step - loss: 54.9007 - mae: 54.9007 - mse: 3252.5510 - val_loss: 52.3659 - val_mae: 52.3659 - val_mse: 2966.7905\n",
            "Epoch 208/300\n",
            "28/28 [==============================] - 0s 2ms/step - loss: 54.8271 - mae: 54.8271 - mse: 3244.6736 - val_loss: 52.2898 - val_mae: 52.2898 - val_mse: 2958.9456\n",
            "Epoch 209/300\n",
            "28/28 [==============================] - 0s 2ms/step - loss: 54.7535 - mae: 54.7535 - mse: 3236.7781 - val_loss: 52.2134 - val_mae: 52.2134 - val_mse: 2951.0801\n",
            "Epoch 210/300\n",
            "28/28 [==============================] - 0s 2ms/step - loss: 54.6797 - mae: 54.6797 - mse: 3228.8655 - val_loss: 52.1376 - val_mae: 52.1376 - val_mse: 2943.2837\n",
            "Epoch 211/300\n",
            "28/28 [==============================] - 0s 2ms/step - loss: 54.6062 - mae: 54.6062 - mse: 3220.9690 - val_loss: 52.0614 - val_mae: 52.0614 - val_mse: 2935.4668\n",
            "Epoch 212/300\n",
            "28/28 [==============================] - 0s 2ms/step - loss: 54.5325 - mae: 54.5325 - mse: 3213.0757 - val_loss: 51.9853 - val_mae: 51.9853 - val_mse: 2927.6682\n",
            "Epoch 213/300\n",
            "28/28 [==============================] - 0s 2ms/step - loss: 54.4588 - mae: 54.4588 - mse: 3205.2563 - val_loss: 51.9094 - val_mae: 51.9094 - val_mse: 2919.8948\n",
            "Epoch 214/300\n",
            "28/28 [==============================] - 0s 2ms/step - loss: 54.3853 - mae: 54.3853 - mse: 3197.3806 - val_loss: 51.8335 - val_mae: 51.8335 - val_mse: 2912.1448\n",
            "Epoch 215/300\n",
            "28/28 [==============================] - 0s 2ms/step - loss: 54.3120 - mae: 54.3120 - mse: 3189.5930 - val_loss: 51.7575 - val_mae: 51.7575 - val_mse: 2904.3853\n",
            "Epoch 216/300\n",
            "28/28 [==============================] - 0s 2ms/step - loss: 54.2386 - mae: 54.2386 - mse: 3181.8022 - val_loss: 51.6819 - val_mae: 51.6819 - val_mse: 2896.6843\n",
            "Epoch 217/300\n",
            "28/28 [==============================] - 0s 2ms/step - loss: 54.1654 - mae: 54.1654 - mse: 3174.0151 - val_loss: 51.6059 - val_mae: 51.6059 - val_mse: 2888.9551\n",
            "Epoch 218/300\n",
            "28/28 [==============================] - 0s 2ms/step - loss: 54.0920 - mae: 54.0920 - mse: 3166.1992 - val_loss: 51.5302 - val_mae: 51.5302 - val_mse: 2881.2727\n",
            "Epoch 219/300\n",
            "28/28 [==============================] - 0s 3ms/step - loss: 54.0189 - mae: 54.0189 - mse: 3158.4661 - val_loss: 51.4541 - val_mae: 51.4541 - val_mse: 2873.5522\n",
            "Epoch 220/300\n",
            "28/28 [==============================] - 0s 2ms/step - loss: 53.9455 - mae: 53.9455 - mse: 3150.6360 - val_loss: 51.3781 - val_mae: 51.3781 - val_mse: 2865.8582\n",
            "Epoch 221/300\n",
            "28/28 [==============================] - 0s 2ms/step - loss: 53.8721 - mae: 53.8721 - mse: 3142.9209 - val_loss: 51.3024 - val_mae: 51.3024 - val_mse: 2858.2083\n",
            "Epoch 222/300\n",
            "28/28 [==============================] - 0s 2ms/step - loss: 53.7989 - mae: 53.7989 - mse: 3135.2058 - val_loss: 51.2263 - val_mae: 51.2263 - val_mse: 2850.5300\n",
            "Epoch 223/300\n",
            "28/28 [==============================] - 0s 2ms/step - loss: 53.7255 - mae: 53.7255 - mse: 3127.4570 - val_loss: 51.1506 - val_mae: 51.1506 - val_mse: 2842.8962\n",
            "Epoch 224/300\n",
            "28/28 [==============================] - 0s 2ms/step - loss: 53.6522 - mae: 53.6522 - mse: 3119.7134 - val_loss: 51.0747 - val_mae: 51.0747 - val_mse: 2835.2622\n",
            "Epoch 225/300\n",
            "28/28 [==============================] - 0s 2ms/step - loss: 53.5789 - mae: 53.5789 - mse: 3112.0254 - val_loss: 50.9987 - val_mae: 50.9987 - val_mse: 2827.6262\n",
            "Epoch 226/300\n",
            "28/28 [==============================] - 0s 2ms/step - loss: 53.5056 - mae: 53.5056 - mse: 3104.3335 - val_loss: 50.9227 - val_mae: 50.9227 - val_mse: 2820.0056\n",
            "Epoch 227/300\n",
            "28/28 [==============================] - 0s 2ms/step - loss: 53.4322 - mae: 53.4322 - mse: 3096.6045 - val_loss: 50.8470 - val_mae: 50.8470 - val_mse: 2812.4211\n",
            "Epoch 228/300\n",
            "28/28 [==============================] - 0s 2ms/step - loss: 53.3590 - mae: 53.3590 - mse: 3088.9316 - val_loss: 50.7708 - val_mae: 50.7708 - val_mse: 2804.8054\n",
            "Epoch 229/300\n",
            "28/28 [==============================] - 0s 2ms/step - loss: 53.2856 - mae: 53.2856 - mse: 3081.2690 - val_loss: 50.6950 - val_mae: 50.6950 - val_mse: 2797.2307\n",
            "Epoch 230/300\n",
            "28/28 [==============================] - 0s 2ms/step - loss: 53.2122 - mae: 53.2122 - mse: 3073.6118 - val_loss: 50.6190 - val_mae: 50.6190 - val_mse: 2789.6614\n",
            "Epoch 231/300\n",
            "28/28 [==============================] - 0s 2ms/step - loss: 53.1389 - mae: 53.1389 - mse: 3065.9663 - val_loss: 50.5432 - val_mae: 50.5432 - val_mse: 2782.1106\n",
            "Epoch 232/300\n",
            "28/28 [==============================] - 0s 2ms/step - loss: 53.0656 - mae: 53.0656 - mse: 3058.3247 - val_loss: 50.4673 - val_mae: 50.4673 - val_mse: 2774.5674\n",
            "Epoch 233/300\n",
            "28/28 [==============================] - 0s 2ms/step - loss: 52.9922 - mae: 52.9922 - mse: 3050.7195 - val_loss: 50.3914 - val_mae: 50.3914 - val_mse: 2767.0430\n",
            "Epoch 234/300\n",
            "28/28 [==============================] - 0s 2ms/step - loss: 52.9189 - mae: 52.9189 - mse: 3043.1306 - val_loss: 50.3154 - val_mae: 50.3154 - val_mse: 2759.5137\n",
            "Epoch 235/300\n",
            "28/28 [==============================] - 0s 2ms/step - loss: 52.8455 - mae: 52.8455 - mse: 3035.5264 - val_loss: 50.2395 - val_mae: 50.2395 - val_mse: 2752.0085\n",
            "Epoch 236/300\n",
            "28/28 [==============================] - 0s 2ms/step - loss: 52.7722 - mae: 52.7722 - mse: 3027.9233 - val_loss: 50.1634 - val_mae: 50.1634 - val_mse: 2744.4949\n",
            "Epoch 237/300\n",
            "28/28 [==============================] - 0s 2ms/step - loss: 52.6988 - mae: 52.6988 - mse: 3020.3623 - val_loss: 50.0875 - val_mae: 50.0875 - val_mse: 2737.0117\n",
            "Epoch 238/300\n",
            "28/28 [==============================] - 0s 2ms/step - loss: 52.6253 - mae: 52.6253 - mse: 3012.8169 - val_loss: 50.0117 - val_mae: 50.0117 - val_mse: 2729.5486\n",
            "Epoch 239/300\n",
            "28/28 [==============================] - 0s 2ms/step - loss: 52.5521 - mae: 52.5521 - mse: 3005.2339 - val_loss: 49.9355 - val_mae: 49.9355 - val_mse: 2722.0540\n",
            "Epoch 240/300\n",
            "28/28 [==============================] - 0s 2ms/step - loss: 52.4786 - mae: 52.4786 - mse: 2997.6477 - val_loss: 49.8597 - val_mae: 49.8597 - val_mse: 2714.6201\n",
            "Epoch 241/300\n",
            "28/28 [==============================] - 0s 2ms/step - loss: 52.4053 - mae: 52.4053 - mse: 2990.1165 - val_loss: 49.7836 - val_mae: 49.7836 - val_mse: 2707.1636\n",
            "Epoch 242/300\n",
            "28/28 [==============================] - 0s 2ms/step - loss: 52.3319 - mae: 52.3319 - mse: 2982.5757 - val_loss: 49.7077 - val_mae: 49.7077 - val_mse: 2699.7417\n",
            "Epoch 243/300\n",
            "28/28 [==============================] - 0s 2ms/step - loss: 52.2585 - mae: 52.2585 - mse: 2975.0950 - val_loss: 49.6317 - val_mae: 49.6317 - val_mse: 2692.3223\n",
            "Epoch 244/300\n",
            "28/28 [==============================] - 0s 2ms/step - loss: 52.1852 - mae: 52.1852 - mse: 2967.5818 - val_loss: 49.5558 - val_mae: 49.5558 - val_mse: 2684.9231\n",
            "Epoch 245/300\n",
            "28/28 [==============================] - 0s 2ms/step - loss: 52.1117 - mae: 52.1117 - mse: 2960.1145 - val_loss: 49.4801 - val_mae: 49.4801 - val_mse: 2677.5503\n",
            "Epoch 246/300\n",
            "28/28 [==============================] - 0s 2ms/step - loss: 52.0385 - mae: 52.0385 - mse: 2952.5837 - val_loss: 49.4039 - val_mae: 49.4039 - val_mse: 2670.1462\n",
            "Epoch 247/300\n",
            "28/28 [==============================] - 0s 2ms/step - loss: 51.9650 - mae: 51.9650 - mse: 2945.1492 - val_loss: 49.3281 - val_mae: 49.3281 - val_mse: 2662.7949\n",
            "Epoch 248/300\n",
            "28/28 [==============================] - 0s 2ms/step - loss: 51.8916 - mae: 51.8916 - mse: 2937.7114 - val_loss: 49.2521 - val_mae: 49.2521 - val_mse: 2655.4329\n",
            "Epoch 249/300\n",
            "28/28 [==============================] - 0s 2ms/step - loss: 51.8183 - mae: 51.8183 - mse: 2930.2673 - val_loss: 49.1760 - val_mae: 49.1760 - val_mse: 2648.0735\n",
            "Epoch 250/300\n",
            "28/28 [==============================] - 0s 2ms/step - loss: 51.7448 - mae: 51.7448 - mse: 2922.8000 - val_loss: 49.1002 - val_mae: 49.1002 - val_mse: 2640.7500\n",
            "Epoch 251/300\n",
            "28/28 [==============================] - 0s 2ms/step - loss: 51.6715 - mae: 51.6715 - mse: 2915.3728 - val_loss: 49.0241 - val_mae: 49.0241 - val_mse: 2633.4126\n",
            "Epoch 252/300\n",
            "28/28 [==============================] - 0s 2ms/step - loss: 51.5980 - mae: 51.5980 - mse: 2907.9810 - val_loss: 48.9481 - val_mae: 48.9481 - val_mse: 2626.1003\n",
            "Epoch 253/300\n",
            "28/28 [==============================] - 0s 2ms/step - loss: 51.5246 - mae: 51.5246 - mse: 2900.5647 - val_loss: 48.8722 - val_mae: 48.8722 - val_mse: 2618.8088\n",
            "Epoch 254/300\n",
            "28/28 [==============================] - 0s 2ms/step - loss: 51.4512 - mae: 51.4512 - mse: 2893.2258 - val_loss: 48.7963 - val_mae: 48.7963 - val_mse: 2611.5186\n",
            "Epoch 255/300\n",
            "28/28 [==============================] - 0s 2ms/step - loss: 51.3778 - mae: 51.3778 - mse: 2885.7668 - val_loss: 48.7205 - val_mae: 48.7205 - val_mse: 2604.2585\n",
            "Epoch 256/300\n",
            "28/28 [==============================] - 0s 2ms/step - loss: 51.3045 - mae: 51.3045 - mse: 2878.4568 - val_loss: 48.6443 - val_mae: 48.6443 - val_mse: 2596.9802\n",
            "Epoch 257/300\n",
            "28/28 [==============================] - 0s 2ms/step - loss: 51.2310 - mae: 51.2310 - mse: 2871.0381 - val_loss: 48.5683 - val_mae: 48.5683 - val_mse: 2589.7244\n",
            "Epoch 258/300\n",
            "28/28 [==============================] - 0s 2ms/step - loss: 51.1576 - mae: 51.1576 - mse: 2863.7585 - val_loss: 48.4922 - val_mae: 48.4922 - val_mse: 2582.4712\n",
            "Epoch 259/300\n",
            "28/28 [==============================] - 0s 2ms/step - loss: 51.0842 - mae: 51.0842 - mse: 2856.3733 - val_loss: 48.4163 - val_mae: 48.4163 - val_mse: 2575.2412\n",
            "Epoch 260/300\n",
            "28/28 [==============================] - 0s 2ms/step - loss: 51.0107 - mae: 51.0107 - mse: 2849.0388 - val_loss: 48.3404 - val_mae: 48.3404 - val_mse: 2568.0342\n",
            "Epoch 261/300\n",
            "28/28 [==============================] - 0s 2ms/step - loss: 50.9375 - mae: 50.9375 - mse: 2841.7344 - val_loss: 48.2640 - val_mae: 48.2640 - val_mse: 2560.7917\n",
            "Epoch 262/300\n",
            "28/28 [==============================] - 0s 2ms/step - loss: 50.8639 - mae: 50.8639 - mse: 2834.4297 - val_loss: 48.1884 - val_mae: 48.1884 - val_mse: 2553.6279\n",
            "Epoch 263/300\n",
            "28/28 [==============================] - 0s 2ms/step - loss: 50.7906 - mae: 50.7906 - mse: 2827.1458 - val_loss: 48.1124 - val_mae: 48.1124 - val_mse: 2546.4424\n",
            "Epoch 264/300\n",
            "28/28 [==============================] - 0s 2ms/step - loss: 50.7173 - mae: 50.7173 - mse: 2819.8635 - val_loss: 48.0362 - val_mae: 48.0362 - val_mse: 2539.2507\n",
            "Epoch 265/300\n",
            "28/28 [==============================] - 0s 2ms/step - loss: 50.6438 - mae: 50.6438 - mse: 2812.5654 - val_loss: 47.9601 - val_mae: 47.9601 - val_mse: 2532.0874\n",
            "Epoch 266/300\n",
            "28/28 [==============================] - 0s 2ms/step - loss: 50.5704 - mae: 50.5704 - mse: 2805.3113 - val_loss: 47.8842 - val_mae: 47.8842 - val_mse: 2524.9478\n",
            "Epoch 267/300\n",
            "28/28 [==============================] - 0s 2ms/step - loss: 50.4969 - mae: 50.4969 - mse: 2798.0847 - val_loss: 47.8085 - val_mae: 47.8085 - val_mse: 2517.8318\n",
            "Epoch 268/300\n",
            "28/28 [==============================] - 0s 2ms/step - loss: 50.4236 - mae: 50.4236 - mse: 2790.8728 - val_loss: 47.7325 - val_mae: 47.7325 - val_mse: 2510.7139\n",
            "Epoch 269/300\n",
            "28/28 [==============================] - 0s 2ms/step - loss: 50.3502 - mae: 50.3502 - mse: 2783.6396 - val_loss: 47.6565 - val_mae: 47.6565 - val_mse: 2503.6008\n",
            "Epoch 270/300\n",
            "28/28 [==============================] - 0s 2ms/step - loss: 50.2768 - mae: 50.2768 - mse: 2776.4551 - val_loss: 47.5804 - val_mae: 47.5804 - val_mse: 2496.4827\n",
            "Epoch 271/300\n",
            "28/28 [==============================] - 0s 2ms/step - loss: 50.2032 - mae: 50.2032 - mse: 2769.1943 - val_loss: 47.5046 - val_mae: 47.5046 - val_mse: 2489.4199\n",
            "Epoch 272/300\n",
            "28/28 [==============================] - 0s 2ms/step - loss: 50.1300 - mae: 50.1300 - mse: 2762.0359 - val_loss: 47.4284 - val_mae: 47.4284 - val_mse: 2482.3228\n",
            "Epoch 273/300\n",
            "28/28 [==============================] - 0s 2ms/step - loss: 50.0565 - mae: 50.0565 - mse: 2754.8372 - val_loss: 47.3525 - val_mae: 47.3525 - val_mse: 2475.2661\n",
            "Epoch 274/300\n",
            "28/28 [==============================] - 0s 2ms/step - loss: 49.9831 - mae: 49.9831 - mse: 2747.7131 - val_loss: 47.2764 - val_mae: 47.2764 - val_mse: 2468.1995\n",
            "Epoch 275/300\n",
            "28/28 [==============================] - 0s 2ms/step - loss: 49.9096 - mae: 49.9096 - mse: 2740.4722 - val_loss: 47.2005 - val_mae: 47.2005 - val_mse: 2461.1689\n",
            "Epoch 276/300\n",
            "28/28 [==============================] - 0s 2ms/step - loss: 49.8362 - mae: 49.8362 - mse: 2733.3755 - val_loss: 47.1246 - val_mae: 47.1246 - val_mse: 2454.1443\n",
            "Epoch 277/300\n",
            "28/28 [==============================] - 0s 2ms/step - loss: 49.7629 - mae: 49.7629 - mse: 2726.1836 - val_loss: 47.0483 - val_mae: 47.0483 - val_mse: 2447.1006\n",
            "Epoch 278/300\n",
            "28/28 [==============================] - 0s 2ms/step - loss: 49.6892 - mae: 49.6892 - mse: 2719.1033 - val_loss: 46.9728 - val_mae: 46.9728 - val_mse: 2440.1355\n",
            "Epoch 279/300\n",
            "28/28 [==============================] - 0s 2ms/step - loss: 49.6161 - mae: 49.6161 - mse: 2711.9590 - val_loss: 46.8963 - val_mae: 46.8963 - val_mse: 2433.1021\n",
            "Epoch 280/300\n",
            "28/28 [==============================] - 0s 2ms/step - loss: 49.5424 - mae: 49.5424 - mse: 2704.8845 - val_loss: 46.8203 - val_mae: 46.8203 - val_mse: 2426.1218\n",
            "Epoch 281/300\n",
            "28/28 [==============================] - 0s 2ms/step - loss: 49.4690 - mae: 49.4690 - mse: 2697.7632 - val_loss: 46.7445 - val_mae: 46.7445 - val_mse: 2419.1636\n",
            "Epoch 282/300\n",
            "28/28 [==============================] - 0s 2ms/step - loss: 49.3957 - mae: 49.3957 - mse: 2690.7114 - val_loss: 46.6683 - val_mae: 46.6683 - val_mse: 2412.1851\n",
            "Epoch 283/300\n",
            "28/28 [==============================] - 0s 2ms/step - loss: 49.3221 - mae: 49.3221 - mse: 2683.6216 - val_loss: 46.5923 - val_mae: 46.5923 - val_mse: 2405.2441\n",
            "Epoch 284/300\n",
            "28/28 [==============================] - 0s 2ms/step - loss: 49.2486 - mae: 49.2486 - mse: 2676.5767 - val_loss: 46.5166 - val_mae: 46.5166 - val_mse: 2398.3293\n",
            "Epoch 285/300\n",
            "28/28 [==============================] - 0s 2ms/step - loss: 49.1754 - mae: 49.1754 - mse: 2669.5181 - val_loss: 46.4401 - val_mae: 46.4401 - val_mse: 2391.3682\n",
            "Epoch 286/300\n",
            "28/28 [==============================] - 0s 2ms/step - loss: 49.1021 - mae: 49.1021 - mse: 2662.4458 - val_loss: 46.3643 - val_mae: 46.3643 - val_mse: 2384.4675\n",
            "Epoch 287/300\n",
            "28/28 [==============================] - 0s 2ms/step - loss: 49.0289 - mae: 49.0289 - mse: 2655.5198 - val_loss: 46.2886 - val_mae: 46.2886 - val_mse: 2377.6021\n",
            "Epoch 288/300\n",
            "28/28 [==============================] - 0s 2ms/step - loss: 48.9560 - mae: 48.9560 - mse: 2648.4980 - val_loss: 46.2126 - val_mae: 46.2126 - val_mse: 2370.7124\n",
            "Epoch 289/300\n",
            "28/28 [==============================] - 0s 2ms/step - loss: 48.8829 - mae: 48.8829 - mse: 2641.5056 - val_loss: 46.1366 - val_mae: 46.1366 - val_mse: 2363.8323\n",
            "Epoch 290/300\n",
            "28/28 [==============================] - 0s 2ms/step - loss: 48.8097 - mae: 48.8097 - mse: 2634.4900 - val_loss: 46.0609 - val_mae: 46.0609 - val_mse: 2357.0000\n",
            "Epoch 291/300\n",
            "28/28 [==============================] - 0s 2ms/step - loss: 48.7367 - mae: 48.7367 - mse: 2627.5442 - val_loss: 45.9851 - val_mae: 45.9851 - val_mse: 2350.1670\n",
            "Epoch 292/300\n",
            "28/28 [==============================] - 0s 2ms/step - loss: 48.6636 - mae: 48.6636 - mse: 2620.5842 - val_loss: 45.9092 - val_mae: 45.9092 - val_mse: 2343.3350\n",
            "Epoch 293/300\n",
            "28/28 [==============================] - 0s 2ms/step - loss: 48.5905 - mae: 48.5905 - mse: 2613.6470 - val_loss: 45.8335 - val_mae: 45.8335 - val_mse: 2336.5271\n",
            "Epoch 294/300\n",
            "28/28 [==============================] - 0s 2ms/step - loss: 48.5175 - mae: 48.5175 - mse: 2606.6995 - val_loss: 45.7574 - val_mae: 45.7574 - val_mse: 2329.7053\n",
            "Epoch 295/300\n",
            "28/28 [==============================] - 0s 2ms/step - loss: 48.4444 - mae: 48.4444 - mse: 2599.7773 - val_loss: 45.6816 - val_mae: 45.6816 - val_mse: 2322.9209\n",
            "Epoch 296/300\n",
            "28/28 [==============================] - 0s 2ms/step - loss: 48.3712 - mae: 48.3712 - mse: 2592.9099 - val_loss: 45.6061 - val_mae: 45.6061 - val_mse: 2316.1687\n",
            "Epoch 297/300\n",
            "28/28 [==============================] - 0s 2ms/step - loss: 48.2983 - mae: 48.2983 - mse: 2586.0317 - val_loss: 45.5300 - val_mae: 45.5300 - val_mse: 2309.3782\n",
            "Epoch 298/300\n",
            "28/28 [==============================] - 0s 2ms/step - loss: 48.2255 - mae: 48.2255 - mse: 2579.1301 - val_loss: 45.4549 - val_mae: 45.4549 - val_mse: 2302.6885\n",
            "Epoch 299/300\n",
            "28/28 [==============================] - 0s 2ms/step - loss: 48.1533 - mae: 48.1533 - mse: 2572.2874 - val_loss: 45.3790 - val_mae: 45.3790 - val_mse: 2295.9431\n",
            "Epoch 300/300\n",
            "28/28 [==============================] - 0s 2ms/step - loss: 48.0808 - mae: 48.0808 - mse: 2565.4265 - val_loss: 45.3036 - val_mae: 45.3036 - val_mse: 2289.2463\n"
          ],
          "name": "stdout"
        }
      ]
    },
    {
      "cell_type": "code",
      "metadata": {
        "colab": {
          "base_uri": "https://localhost:8080/"
        },
        "id": "PdR9buLXVYQt",
        "outputId": "c11b218e-ebb4-4306-82b1-72c1c1bd1511"
      },
      "source": [
        "print(history)\n"
      ],
      "execution_count": 98,
      "outputs": [
        {
          "output_type": "stream",
          "text": [
            "<tensorflow.python.keras.callbacks.History object at 0x7fcb82511990>\n"
          ],
          "name": "stdout"
        }
      ]
    },
    {
      "cell_type": "code",
      "metadata": {
        "colab": {
          "base_uri": "https://localhost:8080/"
        },
        "id": "Q3YOq0YpVYUQ",
        "outputId": "64389080-0095-4cf0-81f2-a5a062ec4663"
      },
      "source": [
        "model.summary()\n"
      ],
      "execution_count": 99,
      "outputs": [
        {
          "output_type": "stream",
          "text": [
            "Model: \"sequential_5\"\n",
            "_________________________________________________________________\n",
            "Layer (type)                 Output Shape              Param #   \n",
            "=================================================================\n",
            "dense_5 (Dense)              (None, 1)                 2         \n",
            "=================================================================\n",
            "Total params: 2\n",
            "Trainable params: 2\n",
            "Non-trainable params: 0\n",
            "_________________________________________________________________\n"
          ],
          "name": "stdout"
        }
      ]
    },
    {
      "cell_type": "code",
      "metadata": {
        "colab": {
          "base_uri": "https://localhost:8080/",
          "height": 1000
        },
        "id": "59C5ef0cVYVy",
        "outputId": "6b44c371-52cc-4910-833b-858ed5ecf55e"
      },
      "source": [
        "# tempString = 'mse'\n",
        "def curvePlots(tempString):\n",
        "  plt.plot(history.history[tempString])\n",
        "  plt.plot(history.history[f'val_{tempString}'])\n",
        "  plt.xlabel('numEpochs')\n",
        "  plt.ylabel(tempString)\n",
        "  plt.legend([tempString, f'val_{tempString}'])\n",
        "  plt.show()\n",
        "\n",
        "\n",
        "curvePlots('mse')\n",
        "curvePlots('mae')\n",
        "curvePlots('loss')"
      ],
      "execution_count": 103,
      "outputs": [
        {
          "output_type": "display_data",
          "data": {
            "image/png": "[encoded data removed]",
            "text/plain": [
              "<Figure size 576x396 with 1 Axes>"
            ]
          },
          "metadata": {
            "tags": []
          }
        },
        {
          "output_type": "display_data",
          "data": {
            "image/png": "[encoded data removed]",
            "text/plain": [
              "<Figure size 576x396 with 1 Axes>"
            ]
          },
          "metadata": {
            "tags": []
          }
        },
        {
          "output_type": "display_data",
          "data": {
            "image/png": "[encoded data removed]",
            "text/plain": [
              "<Figure size 576x396 with 1 Axes>"
            ]
          },
          "metadata": {
            "tags": []
          }
        }
      ]
    },
    {
      "cell_type": "code",
      "metadata": {
        "colab": {
          "base_uri": "https://localhost:8080/"
        },
        "id": "fF8E2NtjVYZH",
        "outputId": "033012dd-dd09-4882-fb1d-0bbfdd3a4ffd"
      },
      "source": [
        "model.predict([1])"
      ],
      "execution_count": 101,
      "outputs": [
        {
          "output_type": "execute_result",
          "data": {
            "text/plain": [
              "array([[16.343533]], dtype=float32)"
            ]
          },
          "metadata": {
            "tags": []
          },
          "execution_count": 101
        }
      ]
    },
    {
      "cell_type": "code",
      "metadata": {
        "colab": {
          "base_uri": "https://localhost:8080/"
        },
        "id": "qgfj-G5zVYae",
        "outputId": "a0ac6d5e-cb56-4bd1-ecbd-6d349b5e1ff0"
      },
      "source": [
        "# testPreds = model.predict(testFeatures).flatten() #array of all prediction values\n",
        "\n",
        "#for single values\n",
        "\n",
        "print(f'Prediction for input value 1: {model.predict([1])}')\n",
        "\n",
        "\n",
        "# for a list of values\n",
        "tempListforPreds = [1,2,3,4,5]\n",
        "print(f'''\n",
        "\n",
        "input List = {tempListforPreds}\n",
        "\n",
        "\n",
        "List of Predictions:\n",
        "{model.predict(tempListforPreds)}\n",
        "\n",
        "List of Predictions (flattened out):\n",
        "{model.predict(tempListforPreds).flatten()}\n",
        "''')"
      ],
      "execution_count": 104,
      "outputs": [
        {
          "output_type": "stream",
          "text": [
            "Prediction for input value 1: [[16.343533]]\n",
            "\n",
            "\n",
            "input List = [1, 2, 3, 4, 5]\n",
            "\n",
            "\n",
            "List of Predictions:\n",
            "[[16.343533]\n",
            " [24.29061 ]\n",
            " [32.237686]\n",
            " [40.184765]\n",
            " [48.131844]]\n",
            "\n",
            "List of Predictions (flattened out):\n",
            "[16.343533 24.29061  32.237686 40.184765 48.131844]\n",
            "\n"
          ],
          "name": "stdout"
        }
      ]
    },
    {
      "cell_type": "code",
      "metadata": {
        "colab": {
          "base_uri": "https://localhost:8080/"
        },
        "id": "0PScd2oYv7CX",
        "outputId": "a85fc3cc-75ce-4000-9af1-06fc36a7ce9c"
      },
      "source": [
        "print(testFeatures)"
      ],
      "execution_count": 105,
      "outputs": [
        {
          "output_type": "stream",
          "text": [
            "     test preparation course\n",
            "9                          2\n",
            "28                         2\n",
            "42                         2\n",
            "47                         2\n",
            "53                         2\n",
            "..                       ...\n",
            "936                        2\n",
            "947                        2\n",
            "949                        1\n",
            "966                        1\n",
            "983                        1\n",
            "\n",
            "[110 rows x 1 columns]\n"
          ],
          "name": "stdout"
        }
      ]
    },
    {
      "cell_type": "code",
      "metadata": {
        "id": "VTz55IERv7LH"
      },
      "source": [
        "testPreds = model.predict(testFeatures).flatten() #array of all prediction values"
      ],
      "execution_count": 106,
      "outputs": []
    },
    {
      "cell_type": "code",
      "metadata": {
        "colab": {
          "base_uri": "https://localhost:8080/"
        },
        "id": "loMxaSGZv7Qr",
        "outputId": "99550cda-978c-4f5f-c439-fc6bcd91c3ff"
      },
      "source": [
        "print(len(testPreds))\n",
        "print(testPreds)"
      ],
      "execution_count": 107,
      "outputs": [
        {
          "output_type": "stream",
          "text": [
            "110\n",
            "[24.29061  24.29061  24.29061  24.29061  24.29061  24.29061  16.343533\n",
            " 24.29061  16.343533 24.29061  24.29061  24.29061  24.29061  24.29061\n",
            " 24.29061  24.29061  16.343533 24.29061  24.29061  24.29061  16.343533\n",
            " 16.343533 16.343533 24.29061  24.29061  24.29061  24.29061  24.29061\n",
            " 16.343533 24.29061  24.29061  16.343533 24.29061  24.29061  16.343533\n",
            " 24.29061  24.29061  24.29061  24.29061  16.343533 24.29061  24.29061\n",
            " 24.29061  16.343533 24.29061  24.29061  24.29061  24.29061  16.343533\n",
            " 16.343533 24.29061  16.343533 24.29061  24.29061  24.29061  24.29061\n",
            " 24.29061  16.343533 24.29061  24.29061  24.29061  24.29061  24.29061\n",
            " 24.29061  16.343533 24.29061  24.29061  24.29061  24.29061  16.343533\n",
            " 16.343533 16.343533 24.29061  24.29061  24.29061  16.343533 16.343533\n",
            " 16.343533 24.29061  24.29061  24.29061  24.29061  24.29061  24.29061\n",
            " 24.29061  16.343533 24.29061  24.29061  24.29061  24.29061  16.343533\n",
            " 24.29061  16.343533 24.29061  24.29061  24.29061  16.343533 24.29061\n",
            " 24.29061  24.29061  24.29061  24.29061  24.29061  16.343533 16.343533\n",
            " 24.29061  24.29061  16.343533 16.343533 16.343533]\n"
          ],
          "name": "stdout"
        }
      ]
    },
    {
      "cell_type": "code",
      "metadata": {
        "colab": {
          "base_uri": "https://localhost:8080/",
          "height": 361
        },
        "id": "pGF5tmoYv7TO",
        "outputId": "a5d13008-2eda-4544-f2dc-7b01b8eea8eb"
      },
      "source": [
        "# prediciton plot --> how well is your model predicting across the actual labels\n",
        "\n",
        "def predPlot(labels, predictions):\n",
        "  plt.scatter(labels, predictions)\n",
        "  plt.ylabel('Predictions')\n",
        "  plt.xlabel('True Value or Labels')\n",
        "  plt.axis('equal')\n",
        "  plt.axis('square')\n",
        "  plt.xlim([0, plt.xlim()[1]])\n",
        "  plt.ylim([0, plt.ylim()[1]])\n",
        "  plt.show()\n",
        "\n",
        "predPlot(testLabels, testPreds)"
      ],
      "execution_count": 108,
      "outputs": [
        {
          "output_type": "display_data",
          "data": {
            "image/png": "[encoded data removed]",
            "text/plain": [
              "<Figure size 576x396 with 1 Axes>"
            ]
          },
          "metadata": {
            "tags": []
          }
        }
      ]
    },
    {
      "cell_type": "code",
      "metadata": {
        "colab": {
          "base_uri": "https://localhost:8080/",
          "height": 361
        },
        "id": "D-6Vtf8Dv7WA",
        "outputId": "471cd57c-4e6b-40ea-f59d-9f9f4a89c731"
      },
      "source": [
        "#error plot --> gaussian distribution \n",
        "\n",
        "def errorPlot(preds, labels, counts):\n",
        "  errors = preds - labels\n",
        "  plt.hist(errors, counts)\n",
        "  plt.xlabel('Error')\n",
        "  plt.ylabel('Counts')\n",
        "  plt.show()\n",
        "\n",
        "errorPlot(testPreds, testLabels, numEpochs)"
      ],
      "execution_count": 109,
      "outputs": [
        {
          "output_type": "display_data",
          "data": {
            "image/png": "[encoded data removed]",
            "text/plain": [
              "<Figure size 576x396 with 1 Axes>"
            ]
          },
          "metadata": {
            "tags": []
          }
        }
      ]
    },
    {
      "cell_type": "code",
      "metadata": {
        "id": "6OaeAL6gv7bi"
      },
      "source": [
        ""
      ],
      "execution_count": null,
      "outputs": []
    },
    {
      "cell_type": "code",
      "metadata": {
        "id": "K7aWx2N7v7eS"
      },
      "source": [
        ""
      ],
      "execution_count": null,
      "outputs": []
    },
    {
      "cell_type": "code",
      "metadata": {
        "id": "FZEMjEkpv7gk"
      },
      "source": [
        ""
      ],
      "execution_count": null,
      "outputs": []
    },
    {
      "cell_type": "code",
      "metadata": {
        "id": "SSGSbWINv7ic"
      },
      "source": [
        ""
      ],
      "execution_count": null,
      "outputs": []
    },
    {
      "cell_type": "code",
      "metadata": {
        "id": "MkLYklOsv7kx"
      },
      "source": [
        ""
      ],
      "execution_count": null,
      "outputs": []
    },
    {
      "cell_type": "code",
      "metadata": {
        "id": "8lRSvGuev7m0"
      },
      "source": [
        ""
      ],
      "execution_count": null,
      "outputs": []
    },
    {
      "cell_type": "code",
      "metadata": {
        "id": "Oke0cEB3v7pQ"
      },
      "source": [
        ""
      ],
      "execution_count": null,
      "outputs": []
    },
    {
      "cell_type": "code",
      "metadata": {
        "id": "hrfgxAljv7rI"
      },
      "source": [
        ""
      ],
      "execution_count": null,
      "outputs": []
    },
    {
      "cell_type": "code",
      "metadata": {
        "id": "uK3CTJL4v7tg"
      },
      "source": [
        ""
      ],
      "execution_count": null,
      "outputs": []
    },
    {
      "cell_type": "code",
      "metadata": {
        "id": "1Q_iiwQCv7xJ"
      },
      "source": [
        ""
      ],
      "execution_count": null,
      "outputs": []
    },
    {
      "cell_type": "code",
      "metadata": {
        "id": "0A9G3lP7VYdE"
      },
      "source": [
        ""
      ],
      "execution_count": 102,
      "outputs": []
    },
    {
      "cell_type": "code",
      "metadata": {
        "id": "qHCyQlmWVYfz"
      },
      "source": [
        ""
      ],
      "execution_count": 102,
      "outputs": []
    }
  ]
}